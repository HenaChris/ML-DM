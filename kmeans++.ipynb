{
 "cells": [
  {
   "cell_type": "markdown",
   "metadata": {},
   "source": [
    "## improve k-means"
   ]
  },
  {
   "cell_type": "code",
   "execution_count": 3,
   "metadata": {},
   "outputs": [],
   "source": [
    "# -*- coding: utf-8 -*-\n",
    "import os\n",
    "import numpy as np\n",
    "import pandas as pd\n",
    "import matplotlib.pyplot as plt"
   ]
  },
  {
   "cell_type": "code",
   "execution_count": 4,
   "metadata": {},
   "outputs": [
    {
     "data": {
      "image/png": "[encoded data removed]",
      "text/plain": [
       "<Figure size 432x288 with 1 Axes>"
      ]
     },
     "metadata": {
      "needs_background": "light"
     },
     "output_type": "display_data"
    }
   ],
   "source": [
    "# data generation \n",
    "n = 100\n",
    "x1 = np.random.randn(n,2)\n",
    "x2 = np.random.randn(n,2) + [2,2]\n",
    "plt.figure()\n",
    "plt.plot(x1[:,0],x1[:,1],'ro')\n",
    "plt.plot(x2[:,0],x2[:,1],'bo')\n",
    "plt.show()"
   ]
  },
  {
   "cell_type": "markdown",
   "metadata": {},
   "source": [
    "   **传统的kmeans算法不能很好的解决初始点的选取问题，对于kmeans的改进已经有很多研究，本次作业选择David Arthur and Sergei Vassilvitskii提出的kmeans++方法对kmeans进行改进，算法步骤如下：**\n",
    "   + 从待分类的点集中，随机选出中心点$c_1$\n",
    "   + 定义$D(x)$为样本到已有聚类中心的最短距离。计算每个样本被选取为下一个距离类中心的概率$\\frac{D(x)^2}{sum_{x\\in\\chi}D(x)^2}$,\n",
    "   最后按照轮盘法选择出最后一个聚类中心。\n",
    "   + 重复第二个步骤知道选出所有的聚类中心\n",
    "   + 接下来的步骤与k均值聚类相同\n",
    "\n",
    "**改进的代码如下：**"
   ]
  },
  {
   "cell_type": "code",
   "execution_count": 5,
   "metadata": {
    "scrolled": false
   },
   "outputs": [
    {
     "name": "stdout",
     "output_type": "stream",
     "text": [
      "随机模拟的初始分类\n"
     ]
    },
    {
     "data": {
      "image/png": "[encoded data removed]",
      "text/plain": [
       "<Figure size 432x288 with 1 Axes>"
      ]
     },
     "metadata": {
      "needs_background": "light"
     },
     "output_type": "display_data"
    },
    {
     "name": "stdout",
     "output_type": "stream",
     "text": [
      "kmeans++的分类结果\n"
     ]
    },
    {
     "data": {
      "image/png": "[encoded data removed]",
      "text/plain": [
       "<Figure size 432x288 with 1 Axes>"
      ]
     },
     "metadata": {
      "needs_background": "light"
     },
     "output_type": "display_data"
    }
   ],
   "source": [
    "#encoding = 'utf-8'\n",
    "#K-means++\n",
    "from pylab import *\n",
    "from numpy import *\n",
    "import matplotlib.pyplot as plt\n",
    "\n",
    "# data generation \n",
    "n = 100\n",
    "x1 = np.random.randn(n,2)\n",
    "x2 = np.random.randn(n,2) + [2,2]\n",
    "X = vstack((x1,x2))\n",
    "print('随机模拟的初始分类')\n",
    "plt.figure()\n",
    "plt.plot(x1[:,0],x1[:,1],'ro')\n",
    "plt.plot(x2[:,0],x2[:,1],'bo')\n",
    "plt.show()\n",
    "\n",
    "\n",
    "#欧氏距离\n",
    "def distance(x1,x2):\n",
    "    return sqrt(sum(power(x1-x2,2)))\n",
    " \n",
    "#计算最近的距离\n",
    "def nearest(point, cluster_centers):\n",
    "    min_dist = inf\n",
    "    m = np.shape(cluster_centers)[0]  #已知的初始聚类中心点\n",
    "    for i in range(m):\n",
    "        #分别计算样本点到每个初始聚类点的距离\n",
    "        d = distance(point, cluster_centers[i, ])\n",
    "        #找到最小的距离\n",
    "        if min_dist > d:\n",
    "            min_dist = d\n",
    "    return min_dist\n",
    "\n",
    "#计算初始聚类点\n",
    "def get_centroids(X, k):\n",
    "    m, n = np.shape(X)\n",
    "\n",
    "    #初始化聚类点\n",
    "    cluster_centers = np.zeros((k , n))\n",
    "    #随机产生第一个聚类点\n",
    "    index = np.random.randint(0, m)\n",
    "    cluster_centers[0,] = X[index, ]\n",
    "    \n",
    "    #初始化距离\n",
    "    d = [0.0 for _ in range(m)]\n",
    "    for i in range(1, k):#[1]\n",
    "        sum_all = 0\n",
    "        for j in range(m):#m=200\n",
    "            #样本点与已知聚类中心的最短距离\n",
    "            d[j] = nearest(X[j, ], cluster_centers[0:i, ])\n",
    "            # 加总最短距离\n",
    "            sum_all += d[j]\n",
    "        #计算每个样本点被抽到的权重（概率）\n",
    "        weigths = d/sum_all\n",
    "        #以该权重抽取样本\n",
    "        index2 = np.random.choice(m,1, p=weigths)\n",
    "        cluster_centers[i,:] = X[index2,]\n",
    "    return cluster_centers\n",
    "\n",
    "\n",
    "def kmeans_plus_plus(X,k):\n",
    "    n,m = X.shape\n",
    "    #计算初始聚类点\n",
    "    cluster_centers = get_centroids(X, k)\n",
    "    #计算欧式距离\n",
    "    count = 1000\n",
    "    while count>0:\n",
    "        dist_all = []\n",
    "        for each in X:\n",
    "            dist = []\n",
    "            for i in range(k):\n",
    "               dis = distance(each,cluster_centers[i,])\n",
    "               dist.append(dis)\n",
    "            dist_all.append(dist)\n",
    "            dis = array(dist_all)\n",
    "            idx = argmin(dis,axis = 1)\n",
    "        #计算新的聚类中心\n",
    "        cluster_centers=np.zeros((k , m))\n",
    "        for j in arange(k):\n",
    "            cluster_centers[j,:] = mean(X[idx==j,:],axis=0)\n",
    "        count -= 1\n",
    "    return idx\n",
    "\n",
    "#作图\n",
    "k = 2   \n",
    "idx= kmeans_plus_plus(X,k)\n",
    "print('kmeans++的分类结果')\n",
    "plt.plot(X[idx==0,:][:,0],X[idx==0,:][:,1],'bo') \n",
    "plt.plot(X[idx==1,:][:,0],X[idx==1,:][:,1],'ro')   \n",
    "plt.show()"
   ]
  }
 ],
 "metadata": {
  "kernelspec": {
   "display_name": "Python 3",
   "language": "python",
   "name": "python3"
  },
  "language_info": {
   "codemirror_mode": {
    "name": "ipython",
    "version": 3
   },
   "file_extension": ".py",
   "mimetype": "text/x-python",
   "name": "python",
   "nbconvert_exporter": "python",
   "pygments_lexer": "ipython3",
   "version": "3.7.1"
  }
 },
 "nbformat": 4,
 "nbformat_minor": 2
}
