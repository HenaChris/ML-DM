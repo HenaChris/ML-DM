{
 "cells": [
  {
   "cell_type": "markdown",
   "metadata": {},
   "source": [
    ""
   ]
  },
  {
   "cell_type": "markdown",
   "metadata": {},
   "source": [
    "### 一、主题"
   ]
  },
  {
   "cell_type": "markdown",
   "metadata": {},
   "source": [
    "   Analyze the stock return data, test the result of different variable selection methods for index tracking."
   ]
  },
  {
   "cell_type": "markdown",
   "metadata": {},
   "source": [
    "### 二、解答"
   ]
  },
  {
   "cell_type": "code",
   "execution_count": 1,
   "metadata": {},
   "outputs": [],
   "source": [
    "import numpy as np\n",
    "import numpy.linalg as la\n",
    "import pandas as pd\n",
    "import matplotlib.pyplot as plt\n",
    "import os"
   ]
  },
  {
   "cell_type": "markdown",
   "metadata": {},
   "source": [
    "### （一）子集筛选的方法"
   ]
  },
  {
   "cell_type": "markdown",
   "metadata": {},
   "source": [
    "#### 1.forward"
   ]
  },
  {
   "cell_type": "code",
   "execution_count": 2,
   "metadata": {},
   "outputs": [],
   "source": [
    "def forward0(X,y):\n",
    "    n,p = X.shape\n",
    "    seq = []\n",
    "    inv_seq = list(range(p))\n",
    "    for j in range(p):\n",
    "        beta = la.pinv(X[:,seq].T.dot(X[:,seq])).dot(X[:,seq].T).dot(y)\n",
    "        Z = y - X[:,seq].dot(beta)\n",
    "        tmp = np.hstack((Z,X[:,inv_seq]))\n",
    "        corr0 = np.corrcoef(tmp.T)\n",
    "        id = np.abs(corr0[0,1:]).argmax()\n",
    "        seq.append(inv_seq[id])\n",
    "        del inv_seq[id]\n",
    "    return seq"
   ]
  },
  {
   "cell_type": "markdown",
   "metadata": {},
   "source": [
    "#### 2.forward stepwise"
   ]
  },
  {
   "cell_type": "code",
   "execution_count": 3,
   "metadata": {},
   "outputs": [],
   "source": [
    "def forward_sw(X,y,eps):\n",
    "    n,p = X.shape\n",
    "    beta = np.zeros((p,1))\n",
    "    iter = 0\n",
    "    beta_seq = []\n",
    "    max_cor = 1\n",
    "    while max_cor > 0.01 and iter <100:\n",
    "        for j in range(p):\n",
    "            Z = y - X.dot(beta)\n",
    "            tmp = np.hstack((Z,X))\n",
    "            corr0 = np.corrcoef(tmp.T)\n",
    "            max_cor = np.abs(corr0[0,1:]).max()\n",
    "            id = np.abs(corr0[0,1:]).argmax()\n",
    "            sgn = np.sign(corr0[0,1:][id])\n",
    "            beta[id] = beta[id] + eps*sgn\n",
    "        beta_seq.append(beta.copy())\n",
    "        iter = iter +1\n",
    "    return beta,beta_seq,iter\n"
   ]
  },
  {
   "cell_type": "markdown",
   "metadata": {},
   "source": [
    "#### 3.coordinate decent algorithm"
   ]
  },
  {
   "cell_type": "code",
   "execution_count": 4,
   "metadata": {},
   "outputs": [],
   "source": [
    "def sfun(t,ld):\n",
    "    tmp = (np.abs(t)-ld)\n",
    "    if tmp < 0:\n",
    "        tmp = 0\n",
    "    return np.sign(t)*tmp\n"
   ]
  },
  {
   "cell_type": "code",
   "execution_count": 5,
   "metadata": {},
   "outputs": [],
   "source": [
    "def coordinate(X,y,beta0,ld):\n",
    "    beta = beta0.copy()\n",
    "    n,p = X.shape\n",
    "    iter = 0\n",
    "    diff = 1\n",
    "    VAL = 10000\n",
    "    while iter<1000 and diff>0.0001:\n",
    "        for j in range(p):\n",
    "            beta[j] = 0\n",
    "            y2 = y - X.dot(beta)\n",
    "            t = X[:,j].dot(y2)\n",
    "            beta[j] = sfun(t,n*ld)/(X[:,j]**2).sum()\n",
    "        VAL2 = np.sum((y-X.dot(beta))**2) + \\\n",
    "        n*ld*np.sum(np.abs(beta))\n",
    "        diff = np.abs(VAL2 - VAL)\n",
    "        VAL = VAL2\n",
    "        iter = iter + 1\n",
    "    return beta,iter"
   ]
  },
  {
   "cell_type": "markdown",
   "metadata": {},
   "source": [
    "### （二）回归"
   ]
  },
  {
   "cell_type": "markdown",
   "metadata": {},
   "source": [
    "#### 1.读入数据"
   ]
  },
  {
   "cell_type": "code",
   "execution_count": 6,
   "metadata": {},
   "outputs": [],
   "source": [
    "os.chdir(r'D:\\研一下\\data mining\\data')"
   ]
  },
  {
   "cell_type": "code",
   "execution_count": 7,
   "metadata": {},
   "outputs": [],
   "source": [
    "index_path = 'SZ399300.TXT'\n",
    "index300 = pd.read_table(index_path,\\\n",
    "    encoding = 'cp936',header = None)\n",
    "index2 = index300[:-1] #去除'1340  数据来源:通达信'行\n",
    "index2.columns = ['date','o','h','l','c','v','to']\n",
    "index2.index = index2['date'] #日"
   ]
  },
  {
   "cell_type": "code",
   "execution_count": 8,
   "metadata": {},
   "outputs": [
    {
     "data": {
      "text/html": [
       "<div>\n",
       "<style scoped>\n",
       "    .dataframe tbody tr th:only-of-type {\n",
       "        vertical-align: middle;\n",
       "    }\n",
       "\n",
       "    .dataframe tbody tr th {\n",
       "        vertical-align: top;\n",
       "    }\n",
       "\n",
       "    .dataframe thead th {\n",
       "        text-align: right;\n",
       "    }\n",
       "</style>\n",
       "<table border=\"1\" class=\"dataframe\">\n",
       "  <thead>\n",
       "    <tr style=\"text-align: right;\">\n",
       "      <th></th>\n",
       "      <th>date</th>\n",
       "      <th>o</th>\n",
       "      <th>h</th>\n",
       "      <th>l</th>\n",
       "      <th>c</th>\n",
       "      <th>v</th>\n",
       "      <th>to</th>\n",
       "    </tr>\n",
       "    <tr>\n",
       "      <th>date</th>\n",
       "      <th></th>\n",
       "      <th></th>\n",
       "      <th></th>\n",
       "      <th></th>\n",
       "      <th></th>\n",
       "      <th></th>\n",
       "      <th></th>\n",
       "    </tr>\n",
       "  </thead>\n",
       "  <tbody>\n",
       "    <tr>\n",
       "      <th>20100602</th>\n",
       "      <td>20100602</td>\n",
       "      <td>2729.33</td>\n",
       "      <td>2757.91</td>\n",
       "      <td>2700.07</td>\n",
       "      <td>2757.53</td>\n",
       "      <td>39587020.0</td>\n",
       "      <td>4.636423e+10</td>\n",
       "    </tr>\n",
       "    <tr>\n",
       "      <th>20100603</th>\n",
       "      <td>20100603</td>\n",
       "      <td>2769.10</td>\n",
       "      <td>2787.51</td>\n",
       "      <td>2735.70</td>\n",
       "      <td>2736.08</td>\n",
       "      <td>39587258.0</td>\n",
       "      <td>4.714326e+10</td>\n",
       "    </tr>\n",
       "    <tr>\n",
       "      <th>20100604</th>\n",
       "      <td>20100604</td>\n",
       "      <td>2721.36</td>\n",
       "      <td>2748.48</td>\n",
       "      <td>2713.09</td>\n",
       "      <td>2744.39</td>\n",
       "      <td>32746291.0</td>\n",
       "      <td>3.985836e+10</td>\n",
       "    </tr>\n",
       "    <tr>\n",
       "      <th>20100607</th>\n",
       "      <td>20100607</td>\n",
       "      <td>2692.83</td>\n",
       "      <td>2716.40</td>\n",
       "      <td>2673.34</td>\n",
       "      <td>2695.72</td>\n",
       "      <td>39541993.0</td>\n",
       "      <td>4.706270e+10</td>\n",
       "    </tr>\n",
       "    <tr>\n",
       "      <th>20100608</th>\n",
       "      <td>20100608</td>\n",
       "      <td>2694.11</td>\n",
       "      <td>2720.59</td>\n",
       "      <td>2672.06</td>\n",
       "      <td>2699.34</td>\n",
       "      <td>35140182.0</td>\n",
       "      <td>4.267710e+10</td>\n",
       "    </tr>\n",
       "    <tr>\n",
       "      <th>20100609</th>\n",
       "      <td>20100609</td>\n",
       "      <td>2711.64</td>\n",
       "      <td>2787.82</td>\n",
       "      <td>2687.33</td>\n",
       "      <td>2782.13</td>\n",
       "      <td>60209533.0</td>\n",
       "      <td>7.071008e+10</td>\n",
       "    </tr>\n",
       "    <tr>\n",
       "      <th>20100610</th>\n",
       "      <td>20100610</td>\n",
       "      <td>2755.94</td>\n",
       "      <td>2776.26</td>\n",
       "      <td>2746.11</td>\n",
       "      <td>2750.02</td>\n",
       "      <td>42906334.0</td>\n",
       "      <td>5.031225e+10</td>\n",
       "    </tr>\n",
       "    <tr>\n",
       "      <th>20100611</th>\n",
       "      <td>20100611</td>\n",
       "      <td>2766.20</td>\n",
       "      <td>2782.09</td>\n",
       "      <td>2755.95</td>\n",
       "      <td>2758.87</td>\n",
       "      <td>40558585.0</td>\n",
       "      <td>4.887148e+10</td>\n",
       "    </tr>\n",
       "    <tr>\n",
       "      <th>20100617</th>\n",
       "      <td>20100617</td>\n",
       "      <td>2778.53</td>\n",
       "      <td>2784.92</td>\n",
       "      <td>2742.64</td>\n",
       "      <td>2742.73</td>\n",
       "      <td>32612356.0</td>\n",
       "      <td>4.029323e+10</td>\n",
       "    </tr>\n",
       "    <tr>\n",
       "      <th>20100618</th>\n",
       "      <td>20100618</td>\n",
       "      <td>2739.03</td>\n",
       "      <td>2755.84</td>\n",
       "      <td>2686.61</td>\n",
       "      <td>2696.17</td>\n",
       "      <td>41808344.0</td>\n",
       "      <td>5.025635e+10</td>\n",
       "    </tr>\n",
       "  </tbody>\n",
       "</table>\n",
       "</div>"
      ],
      "text/plain": [
       "              date        o        h        l        c           v  \\\n",
       "date                                                                 \n",
       "20100602  20100602  2729.33  2757.91  2700.07  2757.53  39587020.0   \n",
       "20100603  20100603  2769.10  2787.51  2735.70  2736.08  39587258.0   \n",
       "20100604  20100604  2721.36  2748.48  2713.09  2744.39  32746291.0   \n",
       "20100607  20100607  2692.83  2716.40  2673.34  2695.72  39541993.0   \n",
       "20100608  20100608  2694.11  2720.59  2672.06  2699.34  35140182.0   \n",
       "20100609  20100609  2711.64  2787.82  2687.33  2782.13  60209533.0   \n",
       "20100610  20100610  2755.94  2776.26  2746.11  2750.02  42906334.0   \n",
       "20100611  20100611  2766.20  2782.09  2755.95  2758.87  40558585.0   \n",
       "20100617  20100617  2778.53  2784.92  2742.64  2742.73  32612356.0   \n",
       "20100618  20100618  2739.03  2755.84  2686.61  2696.17  41808344.0   \n",
       "\n",
       "                    to  \n",
       "date                    \n",
       "20100602  4.636423e+10  \n",
       "20100603  4.714326e+10  \n",
       "20100604  3.985836e+10  \n",
       "20100607  4.706270e+10  \n",
       "20100608  4.267710e+10  \n",
       "20100609  7.071008e+10  \n",
       "20100610  5.031225e+10  \n",
       "20100611  4.887148e+10  \n",
       "20100617  4.029323e+10  \n",
       "20100618  5.025635e+10  "
      ]
     },
     "execution_count": 8,
     "metadata": {},
     "output_type": "execute_result"
    }
   ],
   "source": [
    "index2.head(10)"
   ]
  },
  {
   "cell_type": "code",
   "execution_count": 9,
   "metadata": {},
   "outputs": [
    {
     "data": {
      "text/plain": [
       "(1340, 7)"
      ]
     },
     "execution_count": 9,
     "metadata": {},
     "output_type": "execute_result"
    }
   ],
   "source": [
    "index2.shape#上证指数收盘价"
   ]
  },
  {
   "cell_type": "code",
   "execution_count": 10,
   "metadata": {},
   "outputs": [],
   "source": [
    "stock_path = r'D:\\研一下\\data mining\\data\\hs300-2\\hs300'\n",
    "os.chdir(stock_path)\n",
    "\n",
    "names = os.listdir(stock_path)\n",
    "close = []\n",
    "\n",
    "for spath in names:\n",
    "    tmp = pd.read_table(spath,encoding = 'cp936',header = None)\n",
    "    df = tmp[:-1]\n",
    "    df.columns = ['date','o','h','l','c','v','to']\n",
    "    df.index = df['date']\n",
    "    df1 = df.reindex(index2.index, method = 'ffill')\n",
    "    df2 = df1.fillna(method = 'bfill')\n",
    "    close.append(df2['c'].values) #提出收盘价\n"
   ]
  },
  {
   "cell_type": "code",
   "execution_count": 11,
   "metadata": {},
   "outputs": [],
   "source": [
    "close = np.asarray(close).T "
   ]
  },
  {
   "cell_type": "code",
   "execution_count": 12,
   "metadata": {},
   "outputs": [
    {
     "data": {
      "text/plain": [
       "(1340, 300)"
      ]
     },
     "execution_count": 12,
     "metadata": {},
     "output_type": "execute_result"
    }
   ],
   "source": [
    "np.shape(close)"
   ]
  },
  {
   "cell_type": "code",
   "execution_count": 13,
   "metadata": {},
   "outputs": [],
   "source": [
    "retx = (close[1:,:] - close[0:-1,:])/close[0:-1,:]"
   ]
  },
  {
   "cell_type": "code",
   "execution_count": 14,
   "metadata": {},
   "outputs": [
    {
     "data": {
      "text/plain": [
       "(1339, 300)"
      ]
     },
     "execution_count": 14,
     "metadata": {},
     "output_type": "execute_result"
    }
   ],
   "source": [
    "#计算收益率\n",
    "np.shape(retx)"
   ]
  },
  {
   "cell_type": "code",
   "execution_count": 15,
   "metadata": {},
   "outputs": [],
   "source": [
    "#计算指数收益率\n",
    "idc = index2['c'].values\n",
    "y = ((idc[1:] - idc[0:-1])/idc[:-1]).reshape(1339,1)"
   ]
  },
  {
   "cell_type": "code",
   "execution_count": 16,
   "metadata": {},
   "outputs": [
    {
     "data": {
      "text/plain": [
       "(1339, 1)"
      ]
     },
     "execution_count": 16,
     "metadata": {},
     "output_type": "execute_result"
    }
   ],
   "source": [
    "np.shape(y)"
   ]
  },
  {
   "cell_type": "code",
   "execution_count": 17,
   "metadata": {},
   "outputs": [],
   "source": [
    "#计算股票平均收益率\n",
    "y2 = retx.mean(axis = 1).reshape(1339,1)"
   ]
  },
  {
   "cell_type": "code",
   "execution_count": 18,
   "metadata": {},
   "outputs": [
    {
     "data": {
      "text/plain": [
       "(1339, 1)"
      ]
     },
     "execution_count": 18,
     "metadata": {},
     "output_type": "execute_result"
    }
   ],
   "source": [
    "np.shape(y2)"
   ]
  },
  {
   "cell_type": "code",
   "execution_count": 19,
   "metadata": {},
   "outputs": [
    {
     "data": {
      "text/plain": [
       "[<matplotlib.lines.Line2D at 0x1598951c048>]"
      ]
     },
     "execution_count": 19,
     "metadata": {},
     "output_type": "execute_result"
    },
    {
     "data": {
      "image/png": "[encoded data removed]",
      "text/plain": [
       "<Figure size 432x288 with 1 Axes>"
      ]
     },
     "metadata": {
      "needs_background": "light"
     },
     "output_type": "display_data"
    }
   ],
   "source": [
    "plt.plot(np.cumprod(1+y),'b') #连乘\n",
    "plt.plot(np.cumprod(1+y2),'r')"
   ]
  },
  {
   "cell_type": "markdown",
   "metadata": {},
   "source": [
    "             图1 均值指数追踪"
   ]
  },
  {
   "cell_type": "markdown",
   "metadata": {},
   "source": [
    "#### 2.forward regression"
   ]
  },
  {
   "cell_type": "code",
   "execution_count": 21,
   "metadata": {},
   "outputs": [
    {
     "data": {
      "text/plain": [
       "[<matplotlib.lines.Line2D at 0x159896620b8>]"
      ]
     },
     "execution_count": 21,
     "metadata": {},
     "output_type": "execute_result"
    },
    {
     "data": {
      "image/png": "[encoded data removed]",
      "text/plain": [
       "<Figure size 432x288 with 1 Axes>"
      ]
     },
     "metadata": {
      "needs_background": "light"
     },
     "output_type": "display_data"
    }
   ],
   "source": [
    "X = retx\n",
    "seq0 = forward0(X[:600,:],y2[:600,:])\n",
    "id = seq0[:150]\n",
    "beta0 = la.pinv(X[:600,id].T.dot(X[:600,id])).dot(X[:600,id].T).dot(y2[:600,:])\n",
    "yest = X[600:700,id].dot(beta0)\n",
    "plt.plot(np.cumprod(1+yest),'r')\n",
    "plt.plot(np.cumprod(1+y2[600:700]),'b')"
   ]
  },
  {
   "cell_type": "markdown",
   "metadata": {},
   "source": [
    "             图2 forward regression指数追踪"
   ]
  },
  {
   "cell_type": "markdown",
   "metadata": {},
   "source": [
    "#### 2.forward stepwise regression"
   ]
  },
  {
   "cell_type": "code",
   "execution_count": 22,
   "metadata": {},
   "outputs": [
    {
     "data": {
      "image/png": "[encoded data removed]",
      "text/plain": [
       "<Figure size 432x288 with 1 Axes>"
      ]
     },
     "metadata": {
      "needs_background": "light"
     },
     "output_type": "display_data"
    }
   ],
   "source": [
    "X = retx\n",
    "y2 = retx.mean(axis = 1).reshape(1339,1)\n",
    "X = retx[:600,:]+1e-10\n",
    "y= y2[:600,:]\n",
    "beta0, beta_seq,iter = forward_sw(X,y,0.005)\n",
    "yest = retx[600:700,:].dot(beta0)\n",
    "plt.plot(np.cumprod(1+yest),'r')\n",
    "plt.plot(np.cumprod(1+y2[600:700,:]),'b')\n",
    "plt.show()"
   ]
  },
  {
   "cell_type": "markdown",
   "metadata": {},
   "source": [
    "         图3 forward stepwise regression指数追踪"
   ]
  },
  {
   "cell_type": "markdown",
   "metadata": {},
   "source": [
    "#### 3.coordinate decent algorithm regression"
   ]
  },
  {
   "cell_type": "code",
   "execution_count": 23,
   "metadata": {},
   "outputs": [
    {
     "data": {
      "image/png": "[encoded data removed]",
      "text/plain": [
       "<Figure size 432x288 with 1 Axes>"
      ]
     },
     "metadata": {
      "needs_background": "light"
     },
     "output_type": "display_data"
    }
   ],
   "source": [
    "X = retx\n",
    "y2 = retx.mean(axis = 1).reshape(1339,1)\n",
    "X = retx[:600,:]+1e-10\n",
    "y= y2[:600,:]\n",
    "beta_ols = la.pinv(X.T.dot(X)).dot(X.T).dot(y)\n",
    "beta0,iter = coordinate(X,y,beta_ols,0.00001) #选择不同的惩罚项，拟合的效果不一样，惩罚项越大，β的压缩力度越大\n",
    "yest = retx[600:700,:].dot(beta0)\n",
    "plt.plot(np.cumprod(1+yest),'r')\n",
    "plt.plot(np.cumprod(1+y2[600:700,:]),'b')\n",
    "plt.show()"
   ]
  },
  {
   "cell_type": "markdown",
   "metadata": {},
   "source": [
    "图4 coordinate decent algorithm regression 指数追踪"
   ]
  },
  {
   "cell_type": "markdown",
   "metadata": {},
   "source": [
    "## （三）结果解析"
   ]
  },
  {
   "cell_type": "markdown",
   "metadata": {},
   "source": [
    "本次作业利用沪深300的成分股，来追踪沪深300指数，即通过子集筛选的方式选取成分股，将其收益率作为自变量去拟合预测hs300的收益率。子集的选取方式包括forward方法，其基本思想是不断选取与回归残差相关系数最大的自变量进入回归子集中。首先，我们把前600个交易日当做训练数据集，后100个交易日收益率当做测试集。根据forward方法选出的自变量序列已经根据相关系数排好序。然后我们选取了子集中的前150支股票收益率作为自变量去预测测试集。得到图一，可以看到，在前40天模型的效果都是比较好的，较远的天数出现了偏差。"
   ]
  },
  {
   "cell_type": "markdown",
   "metadata": {},
   "source": [
    "forward stepwise方法则是不断计算全部的自变量与残差的相关系数，将初始的贝塔估计定位OLS估计的贝塔值，通过加上（相关系数大于0）或减去（相关系数小于0）一个很小的整数去更新相关系数大的自变量的贝塔值，再重新计算残差，重复以上步骤。使用该方法进行估计得到图二，其效果不如forward方法。"
   ]
  },
  {
   "cell_type": "markdown",
   "metadata": {},
   "source": [
    "coordinate decent algorithm通过固定坐标来更新贝塔的值，因为在其他参数固定的情况下，要求损失函数的是有显示解的。这个使得损失函数最小的解可以当做新的未固定坐标的贝塔值，然后继续选取未固定参数。此处定义的梯度下降算法是lasso回归。lasso回归本身就具有选择子集的功能。lambda值越大，则β被压缩的越厉害。本次作业选择的lambda值较小，但是预测的效果仍然比较差。"
   ]
  },
  {
   "cell_type": "markdown",
   "metadata": {},
   "source": [
    "综上所述，forward回归较好。"
   ]
  }
 ],
 "metadata": {
  "kernelspec": {
   "display_name": "Python 3",
   "language": "python",
   "name": "python3"
  },
  "language_info": {
   "codemirror_mode": {
    "name": "ipython",
    "version": 3
   },
   "file_extension": ".py",
   "mimetype": "text/x-python",
   "name": "python",
   "nbconvert_exporter": "python",
   "pygments_lexer": "ipython3",
   "version": "3.7.1"
  }
 },
 "nbformat": 4,
 "nbformat_minor": 2
}
