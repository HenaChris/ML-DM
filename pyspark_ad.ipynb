{
 "cells": [
  {
   "cell_type": "code",
   "execution_count": 1,
   "metadata": {},
   "outputs": [],
   "source": [
    "import findspark\n",
    "import pyspark\n",
    "import os\n",
    "from pyspark import SparkContext\n",
    "from pyspark import SparkConf\n",
    "from pyspark.sql import SparkSession\n",
    "spark=SparkSession.builder.appName('local').getOrCreate()\n",
    "\n",
    "from pyspark.sql.functions import from_unixtime\n",
    "from pyspark.sql.functions import to_date, to_timestamp"
   ]
  },
  {
   "cell_type": "code",
   "execution_count": 2,
   "metadata": {},
   "outputs": [],
   "source": [
    "#数据路径\n",
    "path1 = r'D:\\\\AD_ALG\\\\algo.qq.com_641013010_testa\\\\testA\\\\csvFile\\\\ad_static_feature.csv'\n",
    "path2 = r'D:\\\\AD_ALG\\\\algo.qq.com_641013010_testa\\\\testA\\\\csvFile\\\\ad_operation.csv'\n",
    "path3 = r'D:\\\\AD_ALG\\\\algo.qq.com_641013010_testa\\\\testA\\\\user\\\\user_data'\n",
    "path4 = r'D:\\\\AD_ALG\\\\algo.qq.com_641013010_testa\\\\testA\\\\imps_log\\\\totalExposureLog.out'\n",
    "path5 = r'D:\\\\AD_ALG\\\\algo.qq.com_641013010_testa\\\\testA\\\\csvFile\\\\test_sample.csv'"
   ]
  },
  {
   "cell_type": "markdown",
   "metadata": {},
   "source": [
    "### 第一步、处理df_ad_static"
   ]
  },
  {
   "cell_type": "code",
   "execution_count": 3,
   "metadata": {},
   "outputs": [
    {
     "name": "stdout",
     "output_type": "stream",
     "text": [
      "+-----------+\n",
      "|create_time|\n",
      "+-----------+\n",
      "| 1550991780|\n",
      "| 1552296016|\n",
      "| 1550823156|\n",
      "+-----------+\n",
      "only showing top 3 rows\n",
      "\n",
      "+------+-----------+-------------+--------+-----------+-----------+-------+-------------------+\n",
      "| ad_id|create_time|ad_account_id|goods_id|goods_types|industry_id|ad_size|        create_date|\n",
      "+------+-----------+-------------+--------+-----------+-----------+-------+-------------------+\n",
      "|144732| 1550991780|        13937|      -1|          1|        186|     14|2019-02-24 15:03:00|\n",
      "| 70793| 1552296016|         6932|      -1|          1|         21|     14|2019-03-11 17:20:16|\n",
      "|467150| 1550823156|          171|   21922|         18|        232|     30|2019-02-22 16:12:36|\n",
      "|383839| 1551188776|        10704|    4242|          8|        147|      3|2019-02-26 21:46:16|\n",
      "|245464| 1550459042|        26317|   32825|          5|         47|     44|2019-02-18 11:04:02|\n",
      "|629739| 1552123718|        14159|   32101|         18|         13|     36|2019-03-09 17:28:38|\n",
      "|505234| 1515044697|         1093|   21756|         13|         84|     30|2018-01-04 13:44:57|\n",
      "|368722| 1552015457|        10296|   24165|         18|        232|     19|2019-03-08 11:24:17|\n",
      "| 25699| 1551430290|        23372|   22289|          5|        117|     64|2019-03-01 16:51:30|\n",
      "| 72021| 1550885090|         2111|     149|          8|         91|     14|2019-02-23 09:24:50|\n",
      "|364970| 1550217157|        21086|   23027|          5|        186|     44|2019-02-15 15:52:37|\n",
      "|402143| 1551247526|        17878|   25323|          5|        117|     36|2019-02-27 14:05:26|\n",
      "|622719| 1550737407|        27721|   32424|         18|        189|      1|2019-02-21 16:23:27|\n",
      "|520194| 1551001007|        16146|      -1|          3|         54|     40|2019-02-24 17:36:47|\n",
      "|491177| 1552186784|         3136|     186|          3|        164|     64|2019-03-10 10:59:44|\n",
      "|645517| 1551954354|        11902|      -1|          1|        172|     64|2019-03-07 18:25:54|\n",
      "|367556| 1551519045|        15136|    3401|         18|        218|     36|2019-03-02 17:30:45|\n",
      "| 97673| 1550014816|         1060|   21922|         18|        232|     64|2019-02-13 07:40:16|\n",
      "|123067| 1550289326|         3593|   13542|         18|         13|     40|2019-02-16 11:55:26|\n",
      "|565079| 1543997984|        22217|      -1|          1|        230|     37|2018-12-05 16:19:44|\n",
      "|408473| 1550213436|        20690|    5890|          5|        186|     40|2019-02-15 14:50:36|\n",
      "|431540| 1550032622|        15957|   12080|          3|        164|      1|2019-02-13 12:37:02|\n",
      "|325576| 1552874220|        29112|      -1|          1|         90|     44|2019-03-18 09:57:00|\n",
      "|110841| 1549953870|        12215|    4232|         18|        117|     40|2019-02-12 14:44:30|\n",
      "|685521| 1552100765|        22281|   18647|          3|        164|     34|2019-03-09 11:06:05|\n",
      "| 79568| 1551408541|        29230|   16290|          3|        224|     57|2019-03-01 10:49:01|\n",
      "|274518| 1552880508|        13547|      -1|          3|        237|     30|2019-03-18 11:41:48|\n",
      "|255041| 1550769919|        18332|    9002|          8|         32|     64|2019-02-22 01:25:19|\n",
      "| 55875| 1551067115|        16897|    7485|          5|        117|     36|2019-02-25 11:58:35|\n",
      "|512772| 1551268763|        13009|   10650|          5|         90|     64|2019-02-27 19:59:23|\n",
      "+------+-----------+-------------+--------+-----------+-----------+-------+-------------------+\n",
      "only showing top 30 rows\n",
      "\n",
      "+------+-----------+-------------+--------+-----------+-----------+-------+-------------------+\n",
      "| ad_id|create_time|ad_account_id|goods_id|goods_types|industry_id|ad_size|        create_date|\n",
      "+------+-----------+-------------+--------+-----------+-----------+-------+-------------------+\n",
      "|144732| 1550991780|        13937|      -1|          1|        186|     14|2019-02-24 15:03:00|\n",
      "| 70793| 1552296016|         6932|      -1|          1|         21|     14|2019-03-11 17:20:16|\n",
      "|467150| 1550823156|          171|   21922|         18|        232|     30|2019-02-22 16:12:36|\n",
      "|383839| 1551188776|        10704|    4242|          8|        147|      3|2019-02-26 21:46:16|\n",
      "|245464| 1550459042|        26317|   32825|          5|         47|     44|2019-02-18 11:04:02|\n",
      "|629739| 1552123718|        14159|   32101|         18|         13|     36|2019-03-09 17:28:38|\n",
      "|505234| 1515044697|         1093|   21756|         13|         84|     30|2018-01-04 13:44:57|\n",
      "|368722| 1552015457|        10296|   24165|         18|        232|     19|2019-03-08 11:24:17|\n",
      "| 25699| 1551430290|        23372|   22289|          5|        117|     64|2019-03-01 16:51:30|\n",
      "| 72021| 1550885090|         2111|     149|          8|         91|     14|2019-02-23 09:24:50|\n",
      "|364970| 1550217157|        21086|   23027|          5|        186|     44|2019-02-15 15:52:37|\n",
      "|402143| 1551247526|        17878|   25323|          5|        117|     36|2019-02-27 14:05:26|\n",
      "|622719| 1550737407|        27721|   32424|         18|        189|      1|2019-02-21 16:23:27|\n",
      "|520194| 1551001007|        16146|      -1|          3|         54|     40|2019-02-24 17:36:47|\n",
      "|491177| 1552186784|         3136|     186|          3|        164|     64|2019-03-10 10:59:44|\n",
      "|645517| 1551954354|        11902|      -1|          1|        172|     64|2019-03-07 18:25:54|\n",
      "|367556| 1551519045|        15136|    3401|         18|        218|     36|2019-03-02 17:30:45|\n",
      "| 97673| 1550014816|         1060|   21922|         18|        232|     64|2019-02-13 07:40:16|\n",
      "|123067| 1550289326|         3593|   13542|         18|         13|     40|2019-02-16 11:55:26|\n",
      "|565079| 1543997984|        22217|      -1|          1|        230|     37|2018-12-05 16:19:44|\n",
      "+------+-----------+-------------+--------+-----------+-----------+-------+-------------------+\n",
      "only showing top 20 rows\n",
      "\n"
     ]
    }
   ],
   "source": [
    "####------------df_ad_static---------\n",
    "df_ad_static_feature=spark.read.csv(path1,header=True)\n",
    "df_ad_static_feature.select('create_time').show(3)\n",
    "df_ad_static_feature.show(30)\n",
    "df_ad_static_feature = df_ad_static_feature.withColumn('create_date', from_unixtime('create_time','yyyy-MM-dd HH:mm:ss'))\n",
    "df_ad_static_feature.show()"
   ]
  },
  {
   "cell_type": "code",
   "execution_count": 4,
   "metadata": {},
   "outputs": [],
   "source": [
    "##去重复\n",
    "df_ad_static_feature = df_ad_static_feature.dropDuplicates()\n"
   ]
  },
  {
   "cell_type": "code",
   "execution_count": 5,
   "metadata": {},
   "outputs": [
    {
     "name": "stdout",
     "output_type": "stream",
     "text": [
      "+------+-----------+-------------+--------+-----------+-----------+-------+-------------------+\n",
      "| ad_id|create_time|ad_account_id|goods_id|goods_types|industry_id|ad_size|        create_date|\n",
      "+------+-----------+-------------+--------+-----------+-----------+-------+-------------------+\n",
      "|144732| 1550991780|        13937|      -1|          1|        186|     14|2019-02-24 15:03:00|\n",
      "| 70793| 1552296016|         6932|      -1|          1|         21|     14|2019-03-11 17:20:16|\n",
      "|467150| 1550823156|          171|   21922|         18|        232|     30|2019-02-22 16:12:36|\n",
      "|383839| 1551188776|        10704|    4242|          8|        147|      3|2019-02-26 21:46:16|\n",
      "|245464| 1550459042|        26317|   32825|          5|         47|     44|2019-02-18 11:04:02|\n",
      "+------+-----------+-------------+--------+-----------+-----------+-------+-------------------+\n",
      "only showing top 5 rows\n",
      "\n"
     ]
    }
   ],
   "source": [
    "df_ad_static_feature.show(5)"
   ]
  },
  {
   "cell_type": "code",
   "execution_count": 6,
   "metadata": {},
   "outputs": [
    {
     "name": "stdout",
     "output_type": "stream",
     "text": [
      "+-------------+-------------------+---------------------+----------------+-------------------+-------------------+---------------+-------------------+\n",
      "|ad_id_missing|create_time_missing|ad_account_id_missing|goods_id_missing|goods_types_missing|industry_id_missing|ad_size_missing|create_date_missing|\n",
      "+-------------+-------------------+---------------------+----------------+-------------------+-------------------+---------------+-------------------+\n",
      "|          0.0|                0.0|                  0.0|             0.0|                0.0|                0.0|            0.0|                0.0|\n",
      "+-------------+-------------------+---------------------+----------------+-------------------+-------------------+---------------+-------------------+\n",
      "\n"
     ]
    }
   ],
   "source": [
    "##去缺失值\n",
    "import pyspark.sql.functions as fn\n",
    "df_ad_static_feature.agg(*[(1-(fn.count(c)/fn.count(\"*\"))).alias(c+'_missing')\n",
    "                           for c in df_ad_static_feature.columns]).show()\n",
    "df_ad_static_feature = df_ad_static_feature.dropna()"
   ]
  },
  {
   "cell_type": "code",
   "execution_count": 7,
   "metadata": {},
   "outputs": [
    {
     "data": {
      "text/html": [
       "<div>\n",
       "<style scoped>\n",
       "    .dataframe tbody tr th:only-of-type {\n",
       "        vertical-align: middle;\n",
       "    }\n",
       "\n",
       "    .dataframe tbody tr th {\n",
       "        vertical-align: top;\n",
       "    }\n",
       "\n",
       "    .dataframe thead th {\n",
       "        text-align: right;\n",
       "    }\n",
       "</style>\n",
       "<table border=\"1\" class=\"dataframe\">\n",
       "  <thead>\n",
       "    <tr style=\"text-align: right;\">\n",
       "      <th></th>\n",
       "      <th>ad_id</th>\n",
       "      <th>create_time</th>\n",
       "      <th>ad_account_id</th>\n",
       "      <th>goods_id</th>\n",
       "      <th>goods_types</th>\n",
       "      <th>industry_id</th>\n",
       "      <th>ad_size</th>\n",
       "      <th>create_date</th>\n",
       "    </tr>\n",
       "  </thead>\n",
       "  <tbody>\n",
       "    <tr>\n",
       "      <th>0</th>\n",
       "      <td>144732</td>\n",
       "      <td>1550991780</td>\n",
       "      <td>13937</td>\n",
       "      <td>-1</td>\n",
       "      <td>1</td>\n",
       "      <td>186</td>\n",
       "      <td>14</td>\n",
       "      <td>2019-02-24 15:03:00</td>\n",
       "    </tr>\n",
       "    <tr>\n",
       "      <th>1</th>\n",
       "      <td>70793</td>\n",
       "      <td>1552296016</td>\n",
       "      <td>6932</td>\n",
       "      <td>-1</td>\n",
       "      <td>1</td>\n",
       "      <td>21</td>\n",
       "      <td>14</td>\n",
       "      <td>2019-03-11 17:20:16</td>\n",
       "    </tr>\n",
       "    <tr>\n",
       "      <th>2</th>\n",
       "      <td>467150</td>\n",
       "      <td>1550823156</td>\n",
       "      <td>171</td>\n",
       "      <td>21922</td>\n",
       "      <td>18</td>\n",
       "      <td>232</td>\n",
       "      <td>30</td>\n",
       "      <td>2019-02-22 16:12:36</td>\n",
       "    </tr>\n",
       "    <tr>\n",
       "      <th>3</th>\n",
       "      <td>383839</td>\n",
       "      <td>1551188776</td>\n",
       "      <td>10704</td>\n",
       "      <td>4242</td>\n",
       "      <td>8</td>\n",
       "      <td>147</td>\n",
       "      <td>3</td>\n",
       "      <td>2019-02-26 21:46:16</td>\n",
       "    </tr>\n",
       "    <tr>\n",
       "      <th>4</th>\n",
       "      <td>245464</td>\n",
       "      <td>1550459042</td>\n",
       "      <td>26317</td>\n",
       "      <td>32825</td>\n",
       "      <td>5</td>\n",
       "      <td>47</td>\n",
       "      <td>44</td>\n",
       "      <td>2019-02-18 11:04:02</td>\n",
       "    </tr>\n",
       "  </tbody>\n",
       "</table>\n",
       "</div>"
      ],
      "text/plain": [
       "    ad_id create_time ad_account_id goods_id goods_types industry_id ad_size  \\\n",
       "0  144732  1550991780         13937       -1           1         186      14   \n",
       "1   70793  1552296016          6932       -1           1          21      14   \n",
       "2  467150  1550823156           171    21922          18         232      30   \n",
       "3  383839  1551188776         10704     4242           8         147       3   \n",
       "4  245464  1550459042         26317    32825           5          47      44   \n",
       "\n",
       "           create_date  \n",
       "0  2019-02-24 15:03:00  \n",
       "1  2019-03-11 17:20:16  \n",
       "2  2019-02-22 16:12:36  \n",
       "3  2019-02-26 21:46:16  \n",
       "4  2019-02-18 11:04:02  "
      ]
     },
     "execution_count": 7,
     "metadata": {},
     "output_type": "execute_result"
    }
   ],
   "source": [
    "##去异常值\n",
    "\"\"\"industry_id出现多值的情况\"\"\"\n",
    "df_ad_static_feature = df_ad_static_feature.toPandas()\n",
    "def is_outer(x):\n",
    "    if ',' in x:\n",
    "        return '1'\n",
    "    else:\n",
    "        return '0'\n",
    "df_ad_static_feature['is_industry_outer'] = df_ad_static_feature['industry_id'].map(lambda x : is_outer(x))\n",
    "df_ad_static_feature = df_ad_static_feature[df_ad_static_feature['is_industry_outer']=='0']\n",
    "del df_ad_static_feature['is_industry_outer']\n",
    "df_ad_static_feature.head()"
   ]
  },
  {
   "cell_type": "code",
   "execution_count": 8,
   "metadata": {},
   "outputs": [],
   "source": [
    "#将处理好的数据保存\n",
    "#df_ad_static_feature.to_csv( r'D:\\\\AD_ALG\\\\algo.qq.com_641013010_testa\\\\testA\\\\csvFile\\\\ad_static_feature.csv',header = True,index=False)"
   ]
  },
  {
   "cell_type": "code",
   "execution_count": 9,
   "metadata": {},
   "outputs": [],
   "source": [
    "#读取处理好的数据\n",
    "df_ad_static_feature=spark.read.csv(r'D:\\\\AD_ALG\\\\algo.qq.com_641013010_testa\\\\testA\\\\csvFile\\\\ad_static_feature.csv',header=True)"
   ]
  },
  {
   "cell_type": "code",
   "execution_count": 10,
   "metadata": {},
   "outputs": [
    {
     "name": "stdout",
     "output_type": "stream",
     "text": [
      "+------+-----------+-------------+--------+-----------+-----------+-------+-------------------+\n",
      "| ad_id|create_time|ad_account_id|goods_id|goods_types|industry_id|ad_size|        create_date|\n",
      "+------+-----------+-------------+--------+-----------+-----------+-------+-------------------+\n",
      "|144732| 1550991780|        13937|      -1|          1|        186|     14|2019-02-24 15:03:00|\n",
      "| 70793| 1552296016|         6932|      -1|          1|         21|     14|2019-03-11 17:20:16|\n",
      "|467150| 1550823156|          171|   21922|         18|        232|     30|2019-02-22 16:12:36|\n",
      "|383839| 1551188776|        10704|    4242|          8|        147|      3|2019-02-26 21:46:16|\n",
      "|245464| 1550459042|        26317|   32825|          5|         47|     44|2019-02-18 11:04:02|\n",
      "+------+-----------+-------------+--------+-----------+-----------+-------+-------------------+\n",
      "only showing top 5 rows\n",
      "\n"
     ]
    }
   ],
   "source": [
    "df_ad_static_feature.show(5)"
   ]
  },
  {
   "cell_type": "code",
   "execution_count": 11,
   "metadata": {},
   "outputs": [
    {
     "data": {
      "text/plain": [
       "502156"
      ]
     },
     "execution_count": 11,
     "metadata": {},
     "output_type": "execute_result"
    }
   ],
   "source": [
    "df_ad_static_feature.count()"
   ]
  },
  {
   "cell_type": "code",
   "execution_count": 12,
   "metadata": {},
   "outputs": [
    {
     "name": "stdout",
     "output_type": "stream",
     "text": [
      "+-----------+------+\n",
      "|goods_types| count|\n",
      "+-----------+------+\n",
      "|         18|182330|\n",
      "|          1|100833|\n",
      "|          8| 60693|\n",
      "|          5| 56746|\n",
      "|          3| 52688|\n",
      "|         13| 38621|\n",
      "|          2|  9208|\n",
      "|         15|   833|\n",
      "|         12|    97|\n",
      "|         14|    96|\n",
      "|          7|    11|\n",
      "+-----------+------+\n",
      "\n"
     ]
    },
    {
     "data": {
      "text/plain": [
       "'推广商品类型为18的广告最多'"
      ]
     },
     "execution_count": 12,
     "metadata": {},
     "output_type": "execute_result"
    }
   ],
   "source": [
    "##一点描述性统计\n",
    "#goods_types\n",
    "df_ad_static_feature.groupby('goods_types').count().sort('count',ascending=False).show()\n",
    "\"\"\"推广商品类型为18的广告最多\"\"\""
   ]
  },
  {
   "cell_type": "code",
   "execution_count": 13,
   "metadata": {},
   "outputs": [
    {
     "name": "stdout",
     "output_type": "stream",
     "text": [
      "+-------+------------------+\n",
      "|summary|           ad_size|\n",
      "+-------+------------------+\n",
      "|  count|            502156|\n",
      "|   mean| 43.33296492118967|\n",
      "| stddev|18.320716202699142|\n",
      "|    min|                 1|\n",
      "|    max|                 9|\n",
      "+-------+------------------+\n",
      "\n"
     ]
    }
   ],
   "source": [
    "df_ad_static_feature.describe('ad_size').show()"
   ]
  },
  {
   "cell_type": "code",
   "execution_count": 14,
   "metadata": {},
   "outputs": [
    {
     "name": "stdout",
     "output_type": "stream",
     "text": [
      "+-------+------+\n",
      "|ad_size| count|\n",
      "+-------+------+\n",
      "|     64|158523|\n",
      "|     36| 76462|\n",
      "|     40| 51689|\n",
      "|     44| 45556|\n",
      "|     30| 43772|\n",
      "|      1| 27337|\n",
      "|     14| 25096|\n",
      "|     57| 19030|\n",
      "|     34| 12367|\n",
      "|     54| 11759|\n",
      "|     50|  6985|\n",
      "|     20|  4335|\n",
      "|     19|  3844|\n",
      "|     43|  2869|\n",
      "|     25|  2025|\n",
      "|     37|  1646|\n",
      "|      3|  1048|\n",
      "|     29|  1006|\n",
      "|     26|   933|\n",
      "|     13|   796|\n",
      "+-------+------+\n",
      "only showing top 20 rows\n",
      "\n"
     ]
    }
   ],
   "source": [
    "df_ad_static_feature.groupby('ad_size').count().sort('count',ascending=False).show()"
   ]
  },
  {
   "cell_type": "markdown",
   "metadata": {},
   "source": [
    "### 第二步、处理df_ad_operation"
   ]
  },
  {
   "cell_type": "code",
   "execution_count": 15,
   "metadata": {},
   "outputs": [
    {
     "name": "stdout",
     "output_type": "stream",
     "text": [
      "+------+--------------+-------+-------+---------+\n",
      "| ad_id|  crt_chg_time|crt_chg|chg_typ| aft_chg_|\n",
      "+------+--------------+-------+-------+---------+\n",
      "|593323|20190230000000|      1|      1|        0|\n",
      "|146563|20190230000000|      1|      1|        0|\n",
      "|493936|20190230000000|      1|      1|        0|\n",
      "|180239|20190230000000|      1|      1|        0|\n",
      "| 80499|20190230000000|      1|      1|        0|\n",
      "|135889|20190230000000|      1|      1|        0|\n",
      "|587541|20190230000000|      1|      1|        0|\n",
      "|137628|20190230000000|      1|      1|        0|\n",
      "|199142|20190230000000|      1|      1|        0|\n",
      "|606740|20190230000000|      1|      1|        0|\n",
      "|650468|20190230000000|      1|      1|        0|\n",
      "|712452|20190230000000|      1|      1|        0|\n",
      "|600160|20190230000000|      1|      1|        0|\n",
      "|191049|20190230000000|      1|      1|        0|\n",
      "|439612|20190230000000|      1|      1|        0|\n",
      "|370817|20190230000000|      1|      1|        0|\n",
      "|515677|20190230000000|      1|      1|        0|\n",
      "|136927|20190230000000|      1|      1|        0|\n",
      "|222076|20190230000000|      1|      1|        0|\n",
      "|564257|20190230000000|      1|      1|        0|\n",
      "+------+--------------+-------+-------+---------+\n",
      "only showing top 20 rows\n",
      "\n"
     ]
    }
   ],
   "source": [
    "####------------df_ad_operation---------\n",
    "df_ad_operation=spark.read.csv(path2,header=True)\n",
    "df_ad_operation=df_ad_operation.withColumnRenamed('aft_chg',' aft_chg_')\n",
    "#异常时间\n",
    "df_ad_operation.filter(df_ad_operation.crt_chg_time  =='20190230000000').show()"
   ]
  },
  {
   "cell_type": "code",
   "execution_count": 16,
   "metadata": {},
   "outputs": [],
   "source": [
    "#去除异常时间\n",
    "df_ad_operation = df_ad_operation.filter(df_ad_operation.crt_chg_time  !='20190230000000')"
   ]
  },
  {
   "cell_type": "code",
   "execution_count": 17,
   "metadata": {},
   "outputs": [],
   "source": [
    "#转时间\n",
    "date = df_ad_operation.select(to_timestamp(df_ad_operation.crt_chg_time,'yyyyMMddHHmmss').alias('crt_chg_date'))\n",
    "df_ad_operation = df_ad_operation.withColumn(\"crt_chg_date\",to_timestamp(df_ad_operation.crt_chg_time,'yyyyMMddHHmmss'))"
   ]
  },
  {
   "cell_type": "code",
   "execution_count": 18,
   "metadata": {},
   "outputs": [
    {
     "name": "stdout",
     "output_type": "stream",
     "text": [
      "+------+--------------+-------+-------+--------------------+-------------------+------+--------------------+--------------------+--------+\n",
      "| ad_id|  crt_chg_time|crt_chg|chg_typ|            aft_chg_|       crt_chg_date|ad_bid|         target_user|            put_time|ad_state|\n",
      "+------+--------------+-------+-------+--------------------+-------------------+------+--------------------+--------------------+--------+\n",
      "|593323|             0|      2|      2|                  90|               null|    90|                null|                null|    null|\n",
      "|593323|             0|      2|      3|                 all|               null|  null|                 all|                null|    null|\n",
      "|593323|             0|      2|      4|281474976710655,2...|               null|  null|                null|281474976710655,2...|    null|\n",
      "|593323|20190217000000|      1|      1|                   0|2019-02-17 00:00:00|  null|                null|                null|       0|\n",
      "|593323|20190218233855|      1|      2|                  90|2019-02-18 23:38:55|    90|                null|                null|    null|\n",
      "|593323|20190218000000|      1|      1|                   1|2019-02-18 00:00:00|  null|                null|                null|       1|\n",
      "|593323|20190301000000|      1|      1|                   1|2019-03-01 00:00:00|  null|                null|                null|       1|\n",
      "|146563|             0|      2|      2|                  40|               null|    40|                null|                null|    null|\n",
      "|146563|             0|      2|      3|age:217,202,837,6...|               null|  null|age:217,202,837,6...|                null|    null|\n",
      "|146563|             0|      2|      4|281474976710655,2...|               null|  null|                null|281474976710655,2...|    null|\n",
      "|146563|20190220220458|      1|      2|                  40|2019-02-20 22:04:58|    40|                null|                null|    null|\n",
      "|146563|20190223000000|      1|      1|                   0|2019-02-23 00:00:00|  null|                null|                null|       0|\n",
      "|146563|20190225000000|      1|      1|                   1|2019-02-25 00:00:00|  null|                null|                null|       1|\n",
      "|146563|20190301000000|      1|      1|                   1|2019-03-01 00:00:00|  null|                null|                null|       1|\n",
      "|146563|20190302000000|      1|      1|                   0|2019-03-02 00:00:00|  null|                null|                null|       0|\n",
      "+------+--------------+-------+-------+--------------------+-------------------+------+--------------------+--------------------+--------+\n",
      "only showing top 15 rows\n",
      "\n"
     ]
    }
   ],
   "source": [
    "#把表拉长\n",
    "from pyspark.sql import functions as F       \n",
    "df_ad_operation = df_ad_operation.withColumn(\"ad_bid\",F.when(df_ad_operation.chg_typ == '2',df_ad_operation[' aft_chg_']))\n",
    "df_ad_operation = df_ad_operation.withColumn(\"target_user\",F.when(df_ad_operation.chg_typ == '3',df_ad_operation[' aft_chg_']))\n",
    "df_ad_operation = df_ad_operation.withColumn(\"put_time\",F.when(df_ad_operation.chg_typ == '4',df_ad_operation[' aft_chg_']))\n",
    "df_ad_operation = df_ad_operation.withColumn(\"ad_state\",F.when(df_ad_operation.chg_typ == '1',df_ad_operation[' aft_chg_']))\n",
    "df_ad_operation.show(15)"
   ]
  },
  {
   "cell_type": "code",
   "execution_count": 19,
   "metadata": {},
   "outputs": [],
   "source": [
    "##---------转化为pandas来做---------\n",
    "#ad_operation = df_ad_operation.toPandas()\n",
    "#ad_operation['crt_chg_date'] = ad_operation['crt_chg_date'].fillna('0')\n",
    "##去异常状态修改超过100次的认为是异常的\n",
    "#outer_id = set(chg_state_count[chg_state_count['chg_state_count']>100]['ad_id'])\n",
    "#def detec_outer(x,outer_id):\n",
    "#    if x in outer_id:\n",
    "#        return True\n",
    "#    else:\n",
    "#        return False\n",
    "#ad_operation['isouter'] = ad_operation['ad_id'].map(lambda x : detec_outer(x,outer_id))\n",
    "#ad_operation = ad_operation[ad_operation['isouter']==False]\n",
    "#ad_operation.drop('isouter',axis=1,inplace=True)\n",
    "##填充缺失值，向前,向后填充\n",
    "#ffill_df = ad_operation.groupby(['ad_id']).fillna(method='ffill')\n",
    "#columns = ['ad_id']\n",
    "#ffill_tmp = pd.concat((ad_operation[columns ],ffill_df),axis=1)\n",
    "#bfill_df = ffill_tmp.groupby(['ad_id']).fillna(method='bfill')\n",
    "#bfill_tmp = pd.concat((ad_operation[columns ],bfill_df),axis=1)\n",
    "#去重复\n",
    "#bfill_tmp.drop_duplicates(inplace=True)\n",
    "#保存数据\n",
    "#bfill_tmp.to_csv(r'D:\\AD_ALG\\ad_operation_clear.csv',encoding='utf-8-sig',index=False,header=True)"
   ]
  },
  {
   "cell_type": "code",
   "execution_count": 20,
   "metadata": {},
   "outputs": [
    {
     "name": "stdout",
     "output_type": "stream",
     "text": [
      "+-----+------+--------+-------+-------+-------------------+--------------+--------------------+-----------+\n",
      "|ad_id|ad_bid|ad_state|chg_typ|crt_chg|       crt_chg_date|  crt_chg_time|            put_time|target_user|\n",
      "+-----+------+--------+-------+-------+-------------------+--------------+--------------------+-----------+\n",
      "|   31|   100|       1|    234|      2|2019-03-12 23:22:50|             0|281474976694272,2...| area:11442|\n",
      "|   31|   100|       0|      1|      1|2019-03-13 19:52:07|20190313195207|281474976694272,2...| area:11442|\n",
      "|   32|    83|       1|    234|      2|2018-11-30 07:40:17|             0|70368475742208,70...|  area:7572|\n",
      "|   32|    91|       1|      2|      1|2019-02-21 05:31:31|20190221053131|70368475742208,70...|  area:7572|\n",
      "|   32|    91|       0|      1|      1|2019-02-21 22:34:03|20190221223403|70368475742208,70...|  area:7572|\n",
      "|   32|    91|       1|      1|      1|2019-02-22 05:31:39|20190222053139|70368475742208,70...|  area:7572|\n",
      "|   32|    91|       0|      1|      1|2019-02-22 21:52:04|20190222215204|70368475742208,70...|  area:7572|\n",
      "|   32|    91|       1|      1|      1|2019-02-23 05:31:42|20190223053142|70368475742208,70...|  area:7572|\n",
      "|   32|    91|       0|      1|      1|2019-02-23 10:41:13|20190223104113|70368475742208,70...|  area:7572|\n",
      "|   32|    91|       1|      1|      1|2019-02-24 12:11:14|20190224121114|70368475742208,70...|  area:7572|\n",
      "+-----+------+--------+-------+-------+-------------------+--------------+--------------------+-----------+\n",
      "only showing top 10 rows\n",
      "\n"
     ]
    }
   ],
   "source": [
    "#经过pandas处理后最终的数据为\n",
    "df_ad_operation=spark.read.csv(r'D:\\AD_ALG\\ad_operation_clear.csv',header=True)\n",
    "df_ad_operation.show(10)"
   ]
  },
  {
   "cell_type": "markdown",
   "metadata": {},
   "source": [
    "### 第三步、处理df_user_data"
   ]
  },
  {
   "cell_type": "code",
   "execution_count": 21,
   "metadata": {},
   "outputs": [
    {
     "name": "stdout",
     "output_type": "stream",
     "text": [
      "+-------+---+------+--------------------+-------+---------+------------------+------+-----+--------------+--------------------+\n",
      "|user_id|age|gender|               area*|status*|education|consuption_ability|device|work*|connectiontype|           behavior*|\n",
      "+-------+---+------+--------------------+-------+---------+------------------+------+-----+--------------+--------------------+\n",
      "| 624218|753|     2|523,7589,12527,90...|      0|        6|                 1|     2|    0|             4|32612,34406,3413,...|\n",
      "| 271475|601|     3|9019,9032,663,125...|     13|        7|                 2|     2|    0|             2|4990,4992,3413,33...|\n",
      "|  44439|819|     3|12527,14188,9841,...|     13|        7|                 3|     2|    4|             4|3099,4403,34414,4...|\n",
      "| 863717|  1|     2|12527,3435,2398,1...|      6|        5|                 3|     2|    0|             2|34293,845,3413,30...|\n",
      "|1305469|714|     3|8928,9019,1540,71...|     13|        5|                 3|     2|    0|             2|32612,34289,34406...|\n",
      "+-------+---+------+--------------------+-------+---------+------------------+------+-----+--------------+--------------------+\n",
      "only showing top 5 rows\n",
      "\n"
     ]
    }
   ],
   "source": [
    "#df_user_data\n",
    "df_user_data=spark.read.csv(path3,sep='\\t',header=None)\n",
    "df_user_data = df_user_data.withColumnRenamed('_c0','user_id').withColumnRenamed('_c1','age').withColumnRenamed('_c2','gender').withColumnRenamed('_c3','area*').withColumnRenamed('_c4','status*').withColumnRenamed('_c5','education').withColumnRenamed('_c6','consuption_ability').withColumnRenamed('_c7','device').withColumnRenamed('_c8','work*').withColumnRenamed('_c9','connectiontype').withColumnRenamed('_c10','behavior*')\n",
    "df_user_data.show(5)"
   ]
  },
  {
   "cell_type": "code",
   "execution_count": 22,
   "metadata": {},
   "outputs": [
    {
     "data": {
      "text/plain": [
       "DataFrame[summary: string, user_id: string, age: string, gender: string, area*: string, status*: string, education: string, consuption_ability: string, device: string, work*: string, connectiontype: string, behavior*: string]"
      ]
     },
     "execution_count": 22,
     "metadata": {},
     "output_type": "execute_result"
    }
   ],
   "source": [
    "df_user_data.describe()"
   ]
  },
  {
   "cell_type": "code",
   "execution_count": 23,
   "metadata": {},
   "outputs": [
    {
     "name": "stdout",
     "output_type": "stream",
     "text": [
      "+-------+-----------------+------------------+------------------+-------------------+-----------------+------------------+\n",
      "|summary|              age|            gender|    connectiontype|             device|        education|consuption_ability|\n",
      "+-------+-----------------+------------------+------------------+-------------------+-----------------+------------------+\n",
      "|  count|          1396718|           1396718|           1396718|            1396718|          1396718|           1396718|\n",
      "|   mean|526.3470013273975|2.4997451167665914|2.8176883236272463|  2.186646123268978| 4.77900406524438| 2.161956099942866|\n",
      "| stddev|280.6423081629517|   0.5654588072063| 1.025974199358969|0.39513780269948995|2.086811161155874|0.8310177086340266|\n",
      "|    min|                0|                 1|                 1|                  0|                1|                 1|\n",
      "|    max|              988|                 3|                 5|                  4|                8|                 3|\n",
      "+-------+-----------------+------------------+------------------+-------------------+-----------------+------------------+\n",
      "\n"
     ]
    }
   ],
   "source": [
    "#一些描述性统计\n",
    "df_user_data.describe().select('summary','age','gender','connectiontype','device','education','consuption_ability').show()"
   ]
  },
  {
   "cell_type": "code",
   "execution_count": 24,
   "metadata": {},
   "outputs": [
    {
     "name": "stdout",
     "output_type": "stream",
     "text": [
      "+------+------+\n",
      "|gender| count|\n",
      "+------+------+\n",
      "|     3|746709|\n",
      "|     2|601303|\n",
      "|     1| 48706|\n",
      "+------+------+\n",
      "\n",
      "+--------------+------+\n",
      "|connectiontype| count|\n",
      "+--------------+------+\n",
      "|             2|819197|\n",
      "|             4|503779|\n",
      "|             5| 39403|\n",
      "|             3| 25326|\n",
      "|             1|  9013|\n",
      "+--------------+------+\n",
      "\n",
      "+------+-------+\n",
      "|device|  count|\n",
      "+------+-------+\n",
      "|     2|1133994|\n",
      "|     3| 261388|\n",
      "|     0|    842|\n",
      "|     4|    494|\n",
      "+------+-------+\n",
      "\n",
      "+---------+------+\n",
      "|education| count|\n",
      "+---------+------+\n",
      "|        5|349100|\n",
      "|        2|337743|\n",
      "|        6|258055|\n",
      "|        8|157753|\n",
      "|        7|150252|\n",
      "|        3|114473|\n",
      "|        1| 22990|\n",
      "|        4|  6352|\n",
      "+---------+------+\n",
      "\n",
      "+------------------+------+\n",
      "|consuption_ability| count|\n",
      "+------------------+------+\n",
      "|                 3|613701|\n",
      "|                 2|395523|\n",
      "|                 1|387494|\n",
      "+------------------+------+\n",
      "\n"
     ]
    }
   ],
   "source": [
    "#gender\n",
    "df_user_data.groupby('gender').count().sort('count',ascending=False).show()\n",
    "df_user_data.groupby('connectiontype').count().sort('count',ascending=False).show()\n",
    "df_user_data.groupby('device').count().sort('count',ascending=False).show()\n",
    "df_user_data.groupby('education').count().sort('count',ascending=False).show()\n",
    "df_user_data.groupby('consuption_ability').count().sort('count',ascending=False).show()"
   ]
  },
  {
   "cell_type": "markdown",
   "metadata": {},
   "source": [
    "### 第四步、处理f_totalExposureLog"
   ]
  },
  {
   "cell_type": "code",
   "execution_count": 25,
   "metadata": {},
   "outputs": [
    {
     "name": "stdout",
     "output_type": "stream",
     "text": [
      "+----------+------------+-----------+-------+------+-------+------+------+------------+---------+-------------------+\n",
      "|ad_rqst_id|ad_rqst_time|ad_place_id|user_id| ad_id|ad_size|ad_bid|  pctr|quality_ecpm|totalEcpm|       ad_rqst_date|\n",
      "+----------+------------+-----------+-------+------+-------+------+------+------------+---------+-------------------+\n",
      "|  53991770|  1550409746|         94|1160618|451525|     50|    46|47.217|      944.34|  3122.34|2019-02-17 21:22:26|\n",
      "|  25942318|  1550370892|         79| 203814|214797|     64|    10|49.094|      981.88|  1471.88|2019-02-17 10:34:52|\n",
      "|  66156247|  1550416600|         18| 808543| 92253|     40|    96| 3.824|       76.48|  443.584|2019-02-17 23:16:40|\n",
      "|   5935886|  1550365898|        198|   7270|160082|     64|    85| 6.123|      122.46|  642.915|2019-02-17 09:11:38|\n",
      "|  11624425|  1550361159|        168| 852707|253902|     64|    60| 4.329|       86.58|   346.32|2019-02-17 07:52:39|\n",
      "+----------+------------+-----------+-------+------+-------+------+------+------------+---------+-------------------+\n",
      "only showing top 5 rows\n",
      "\n"
     ]
    }
   ],
   "source": [
    "#df_totalExposureLog\n",
    "df_totalExposureLog = spark.read.csv(path4,sep='\\t',header=None) \n",
    "df_totalExposureLog = df_totalExposureLog.withColumnRenamed('_c0','ad_rqst_id').withColumnRenamed('_c1','ad_rqst_time').withColumnRenamed('_c2','ad_place_id').withColumnRenamed('_c3','user_id').withColumnRenamed('_c4','ad_id').withColumnRenamed('_c5','ad_size').withColumnRenamed('_c6','ad_bid').withColumnRenamed('_c7',' pctr').withColumnRenamed('_c8','quality_ecpm').withColumnRenamed('_c9','totalEcpm')\n",
    "df_totalExposureLog = df_totalExposureLog.withColumn('ad_rqst_date', from_unixtime('ad_rqst_time','yyyy-MM-dd HH:mm:ss'))\n",
    "df_totalExposureLog.show(5)"
   ]
  },
  {
   "cell_type": "code",
   "execution_count": 26,
   "metadata": {},
   "outputs": [],
   "source": [
    "#去缺失值\n",
    "df_totalExposureLog = df_totalExposureLog.dropna()"
   ]
  },
  {
   "cell_type": "code",
   "execution_count": 27,
   "metadata": {},
   "outputs": [],
   "source": [
    "df_totalExposureLog =df_totalExposureLog.dropDuplicates(subset=['ad_rqst_id','user_id','ad_id'])"
   ]
  },
  {
   "cell_type": "code",
   "execution_count": 28,
   "metadata": {},
   "outputs": [
    {
     "name": "stdout",
     "output_type": "stream",
     "text": [
      "+----------+------------+-----------+-------+------+-------+------+------+------------+---------+-------------------+\n",
      "|ad_rqst_id|ad_rqst_time|ad_place_id|user_id| ad_id|ad_size|ad_bid|  pctr|quality_ecpm|totalEcpm|       ad_rqst_date|\n",
      "+----------+------------+-----------+-------+------+-------+------+------+------------+---------+-------------------+\n",
      "|  10000035|  1552305125|         18| 567406|624183|     40|    49|19.843|      396.86| 1369.167|2019-03-11 19:52:05|\n",
      "|  10000098|  1551536152|         39| 816739|534452|     36|    45|12.157|      243.14|   790.14|2019-03-02 22:15:52|\n",
      "|  10000119|  1551093547|         25| 558284|157969|     30|    28|21.044|      420.88| 1010.112|2019-02-25 19:19:07|\n",
      "+----------+------------+-----------+-------+------+-------+------+------+------------+---------+-------------------+\n",
      "only showing top 3 rows\n",
      "\n"
     ]
    }
   ],
   "source": [
    "df_totalExposureLog.show(3)"
   ]
  },
  {
   "cell_type": "code",
   "execution_count": 29,
   "metadata": {},
   "outputs": [],
   "source": [
    "from pyspark.sql.functions import to_date\n",
    "df_totalExposureLog  = df_totalExposureLog.withColumn('ad_rqst_date',to_date(df_totalExposureLog.ad_rqst_date))"
   ]
  },
  {
   "cell_type": "code",
   "execution_count": 30,
   "metadata": {},
   "outputs": [
    {
     "name": "stdout",
     "output_type": "stream",
     "text": [
      "+----------+------------+-----------+-------+------+-------+------+------+------------+---------+------------+\n",
      "|ad_rqst_id|ad_rqst_time|ad_place_id|user_id| ad_id|ad_size|ad_bid|  pctr|quality_ecpm|totalEcpm|ad_rqst_date|\n",
      "+----------+------------+-----------+-------+------+-------+------+------+------------+---------+------------+\n",
      "|  10000035|  1552305125|         18| 567406|624183|     40|    49|19.843|      396.86| 1369.167|  2019-03-11|\n",
      "|  10000098|  1551536152|         39| 816739|534452|     36|    45|12.157|      243.14|   790.14|  2019-03-02|\n",
      "|  10000119|  1551093547|         25| 558284|157969|     30|    28|21.044|      420.88| 1010.112|  2019-02-25|\n",
      "+----------+------------+-----------+-------+------+-------+------+------+------------+---------+------------+\n",
      "only showing top 3 rows\n",
      "\n"
     ]
    }
   ],
   "source": [
    "df_totalExposureLog.show(3)"
   ]
  },
  {
   "cell_type": "code",
   "execution_count": 31,
   "metadata": {},
   "outputs": [
    {
     "name": "stdout",
     "output_type": "stream",
     "text": [
      "+------+------------+--------------+\n",
      "| ad_id|ad_rqst_date|count(ad_size)|\n",
      "+------+------------+--------------+\n",
      "|568780|  2019-03-16|            46|\n",
      "|318644|  2019-02-28|          1116|\n",
      "|641438|  2019-02-20|          1445|\n",
      "|145091|  2019-03-13|          1608|\n",
      "| 31309|  2019-03-16|            29|\n",
      "|218113|  2019-02-20|           929|\n",
      "| 39673|  2019-03-12|            52|\n",
      "|251983|  2019-03-04|          4612|\n",
      "|200637|  2019-03-04|           130|\n",
      "|695180|  2019-03-08|            33|\n",
      "|431272|  2019-03-05|           444|\n",
      "|579316|  2019-03-01|          6370|\n",
      "|  8073|  2019-03-17|             1|\n",
      "| 47454|  2019-02-21|           379|\n",
      "|722803|  2019-03-05|            84|\n",
      "|304105|  2019-02-26|           261|\n",
      "|713698|  2019-02-26|            14|\n",
      "|640759|  2019-03-14|          4079|\n",
      "| 59825|  2019-02-27|           361|\n",
      "|725160|  2019-03-01|          1466|\n",
      "+------+------------+--------------+\n",
      "only showing top 20 rows\n",
      "\n"
     ]
    }
   ],
   "source": [
    "#统计每个广告id每天的点击量\n",
    "df_totalExposureLog.groupby(['ad_id','ad_rqst_date']).agg({'ad_size':'mean','ad_size':'count'}).show()"
   ]
  },
  {
   "cell_type": "code",
   "execution_count": 32,
   "metadata": {},
   "outputs": [],
   "source": [
    "group_tmp = df_totalExposureLog.groupby(['ad_id','ad_rqst_date']).agg({'ad_size':'mean','ad_size':'count'})"
   ]
  },
  {
   "cell_type": "code",
   "execution_count": 33,
   "metadata": {},
   "outputs": [
    {
     "name": "stdout",
     "output_type": "stream",
     "text": [
      "+------+------------+--------------+--------+\n",
      "| ad_id|ad_rqst_date|count(ad_size)|exp_week|\n",
      "+------+------------+--------------+--------+\n",
      "|568780|  2019-03-16|            46|       7|\n",
      "|318644|  2019-02-28|          1116|       5|\n",
      "|641438|  2019-02-20|          1445|       4|\n",
      "|145091|  2019-03-13|          1608|       4|\n",
      "| 31309|  2019-03-16|            29|       7|\n",
      "|218113|  2019-02-20|           929|       4|\n",
      "| 39673|  2019-03-12|            52|       3|\n",
      "|251983|  2019-03-04|          4612|       2|\n",
      "|200637|  2019-03-04|           130|       2|\n",
      "|695180|  2019-03-08|            33|       6|\n",
      "|431272|  2019-03-05|           444|       3|\n",
      "|579316|  2019-03-01|          6370|       6|\n",
      "|  8073|  2019-03-17|             1|       1|\n",
      "| 47454|  2019-02-21|           379|       5|\n",
      "|722803|  2019-03-05|            84|       3|\n",
      "|304105|  2019-02-26|           261|       3|\n",
      "|713698|  2019-02-26|            14|       3|\n",
      "|640759|  2019-03-14|          4079|       5|\n",
      "| 59825|  2019-02-27|           361|       4|\n",
      "|725160|  2019-03-01|          1466|       6|\n",
      "+------+------------+--------------+--------+\n",
      "only showing top 20 rows\n",
      "\n"
     ]
    }
   ],
   "source": [
    "##统计周的曝光量\n",
    "from pyspark.sql.functions import dayofweek\n",
    "group_tmp.withColumn('exp_week',dayofweek(group_tmp.ad_rqst_date)).show()"
   ]
  },
  {
   "cell_type": "code",
   "execution_count": 34,
   "metadata": {},
   "outputs": [
    {
     "name": "stdout",
     "output_type": "stream",
     "text": [
      "+--------+------+\n",
      "|exp_week| count|\n",
      "+--------+------+\n",
      "|       3|310520|\n",
      "|       2|300426|\n",
      "|       1|275312|\n",
      "|       6|265771|\n",
      "|       5|259297|\n",
      "|       4|252358|\n",
      "|       7|249832|\n",
      "+--------+------+\n",
      "\n"
     ]
    }
   ],
   "source": [
    "group_tmp = group_tmp.withColumn('exp_week',dayofweek(group_tmp.ad_rqst_date))\n",
    "group_tmp.groupby('exp_week').count().sort('count',ascending=False).show()"
   ]
  },
  {
   "cell_type": "code",
   "execution_count": 35,
   "metadata": {},
   "outputs": [],
   "source": [
    "group_tmp_pd = group_tmp.toPandas()\n",
    "group_tmp_pd.to_csv(r'D:\\AD_ALG\\group_tmp_pd.csv',encoding='utf-8-sig',index=False,header=True)"
   ]
  },
  {
   "cell_type": "markdown",
   "metadata": {},
   "source": [
    "### 第五步、表链接与构造训练集"
   ]
  },
  {
   "cell_type": "code",
   "execution_count": 36,
   "metadata": {},
   "outputs": [],
   "source": [
    "df_ad_static= spark.read.csv(r'D:\\\\AD_ALG\\\\algo.qq.com_641013010_testa\\\\testA\\\\csvFile\\\\ad_static_feature.csv',header=True)\n",
    "df_ad_operation= spark.read.csv(r'D:\\AD_ALG\\ad_operation_clear.csv',header=True)\n",
    "df_ad_exposure = spark.read.csv(r'D:\\AD_ALG\\group_tmp_pd.csv',header=True)"
   ]
  },
  {
   "cell_type": "code",
   "execution_count": 37,
   "metadata": {},
   "outputs": [
    {
     "name": "stdout",
     "output_type": "stream",
     "text": [
      "+------+-----------+-------------+--------+-----------+-----------+-------+-------------------+\n",
      "| ad_id|create_time|ad_account_id|goods_id|goods_types|industry_id|ad_size|        create_date|\n",
      "+------+-----------+-------------+--------+-----------+-----------+-------+-------------------+\n",
      "|144732| 1550991780|        13937|      -1|          1|        186|     14|2019-02-24 15:03:00|\n",
      "| 70793| 1552296016|         6932|      -1|          1|         21|     14|2019-03-11 17:20:16|\n",
      "|467150| 1550823156|          171|   21922|         18|        232|     30|2019-02-22 16:12:36|\n",
      "|383839| 1551188776|        10704|    4242|          8|        147|      3|2019-02-26 21:46:16|\n",
      "|245464| 1550459042|        26317|   32825|          5|         47|     44|2019-02-18 11:04:02|\n",
      "+------+-----------+-------------+--------+-----------+-----------+-------+-------------------+\n",
      "only showing top 5 rows\n",
      "\n",
      "+-----+------+--------+-------+-------+-------------------+--------------+--------------------+-----------+\n",
      "|ad_id|ad_bid|ad_state|chg_typ|crt_chg|       crt_chg_date|  crt_chg_time|            put_time|target_user|\n",
      "+-----+------+--------+-------+-------+-------------------+--------------+--------------------+-----------+\n",
      "|   31|   100|       1|    234|      2|2019-03-12 23:22:50|             0|281474976694272,2...| area:11442|\n",
      "|   31|   100|       0|      1|      1|2019-03-13 19:52:07|20190313195207|281474976694272,2...| area:11442|\n",
      "|   32|    83|       1|    234|      2|2018-11-30 07:40:17|             0|70368475742208,70...|  area:7572|\n",
      "|   32|    91|       1|      2|      1|2019-02-21 05:31:31|20190221053131|70368475742208,70...|  area:7572|\n",
      "|   32|    91|       0|      1|      1|2019-02-21 22:34:03|20190221223403|70368475742208,70...|  area:7572|\n",
      "+-----+------+--------+-------+-------+-------------------+--------------+--------------------+-----------+\n",
      "only showing top 5 rows\n",
      "\n",
      "+------+------------+--------------+--------+\n",
      "| ad_id|ad_rqst_date|count(ad_size)|exp_week|\n",
      "+------+------------+--------------+--------+\n",
      "|568780|  2019-03-16|            46|       7|\n",
      "|318644|  2019-02-28|          1116|       5|\n",
      "|641438|  2019-02-20|          1445|       4|\n",
      "|145091|  2019-03-13|          1608|       4|\n",
      "| 31309|  2019-03-16|            29|       7|\n",
      "+------+------------+--------------+--------+\n",
      "only showing top 5 rows\n",
      "\n"
     ]
    }
   ],
   "source": [
    "df_ad_static.show(5)\n",
    "df_ad_operation.show(5)\n",
    "df_ad_exposure.show(5)"
   ]
  },
  {
   "cell_type": "code",
   "execution_count": 38,
   "metadata": {},
   "outputs": [],
   "source": [
    "df_ad_exposure = df_ad_exposure.withColumnRenamed('count(ad_size)','count')"
   ]
  },
  {
   "cell_type": "code",
   "execution_count": 39,
   "metadata": {},
   "outputs": [],
   "source": [
    "#时间的转化\n",
    "from pyspark.sql.functions import to_date\n",
    "df_ad_static = df_ad_static.withColumn('create_date',to_date(df_ad_static.create_date))\n",
    "df_ad_operation = df_ad_operation.withColumn('crt_chg_date',to_date(df_ad_operation.crt_chg_date))\n",
    "df_ad_exposure = df_ad_exposure.withColumn('ad_rqst_date',to_date(df_ad_exposure.ad_rqst_date))"
   ]
  },
  {
   "cell_type": "code",
   "execution_count": 40,
   "metadata": {},
   "outputs": [],
   "source": [
    "#合并df_ad_exposure和df_ad_static\n",
    "df_ad_exposure = df_ad_exposure.withColumn('ad_id_key',df_ad_exposure.ad_id)\n",
    "df_exp_sta = df_ad_exposure.join(df_ad_static, df_ad_exposure.ad_id == df_ad_static.ad_id, \"inner\")"
   ]
  },
  {
   "cell_type": "code",
   "execution_count": 41,
   "metadata": {},
   "outputs": [
    {
     "name": "stdout",
     "output_type": "stream",
     "text": [
      "+------+------------+-----+--------+---------+------+-----------+-------------+--------+-----------+-----------+-------+-----------+\n",
      "| ad_id|ad_rqst_date|count|exp_week|ad_id_key| ad_id|create_time|ad_account_id|goods_id|goods_types|industry_id|ad_size|create_date|\n",
      "+------+------------+-----+--------+---------+------+-----------+-------------+--------+-----------+-----------+-------+-----------+\n",
      "|100140|  2019-03-11|    3|       2|   100140|100140| 1551866001|        19104|   19626|         18|        117|     36| 2019-03-06|\n",
      "|100263|  2019-03-11|   46|       2|   100263|100263| 1552215751|        27180|      -1|          1|        225|     36| 2019-03-10|\n",
      "|100263|  2019-03-13|    9|       4|   100263|100263| 1552215751|        27180|      -1|          1|        225|     36| 2019-03-10|\n",
      "|100263|  2019-03-12|   22|       3|   100263|100263| 1552215751|        27180|      -1|          1|        225|     36| 2019-03-10|\n",
      "|100263|  2019-03-14|    1|       5|   100263|100263| 1552215751|        27180|      -1|          1|        225|     36| 2019-03-10|\n",
      "|100320|  2019-03-03|   34|       1|   100320|100320| 1544437860|         1105|   10091|         13|         17|     30| 2018-12-10|\n",
      "|100320|  2019-03-14|    2|       5|   100320|100320| 1544437860|         1105|   10091|         13|         17|     30| 2018-12-10|\n",
      "|100320|  2019-03-05|   21|       3|   100320|100320| 1544437860|         1105|   10091|         13|         17|     30| 2018-12-10|\n",
      "|100320|  2019-03-04|   12|       2|   100320|100320| 1544437860|         1105|   10091|         13|         17|     30| 2018-12-10|\n",
      "|100320|  2019-02-21|    9|       5|   100320|100320| 1544437860|         1105|   10091|         13|         17|     30| 2018-12-10|\n",
      "+------+------------+-----+--------+---------+------+-----------+-------------+--------+-----------+-----------+-------+-----------+\n",
      "only showing top 10 rows\n",
      "\n"
     ]
    }
   ],
   "source": [
    "df_exp_sta.show(10)"
   ]
  },
  {
   "cell_type": "code",
   "execution_count": 42,
   "metadata": {},
   "outputs": [
    {
     "name": "stdout",
     "output_type": "stream",
     "text": [
      "+------+------------+-----+--------+---------+------+-----------+-------------+--------+-----------+-----------+-------+-----------+---------+--------------------+\n",
      "| ad_id|ad_rqst_date|count|exp_week|ad_id_key| ad_id|create_time|ad_account_id|goods_id|goods_types|industry_id|ad_size|create_date|ad_id_key|            put_time|\n",
      "+------+------------+-----+--------+---------+------+-----------+-------------+--------+-----------+-----------+-------+-----------+---------+--------------------+\n",
      "|100320|  2019-03-03|   34|       1|   100320|100320| 1544437860|         1105|   10091|         13|         17|     30| 2018-12-10|   100320|281474976694272,2...|\n",
      "|100320|  2019-03-14|    2|       5|   100320|100320| 1544437860|         1105|   10091|         13|         17|     30| 2018-12-10|   100320|281474976694272,2...|\n",
      "|100320|  2019-03-05|   21|       3|   100320|100320| 1544437860|         1105|   10091|         13|         17|     30| 2018-12-10|   100320|281474976694272,2...|\n",
      "|100320|  2019-03-04|   12|       2|   100320|100320| 1544437860|         1105|   10091|         13|         17|     30| 2018-12-10|   100320|281474976694272,2...|\n",
      "|100320|  2019-02-21|    9|       5|   100320|100320| 1544437860|         1105|   10091|         13|         17|     30| 2018-12-10|   100320|281474976694272,2...|\n",
      "+------+------------+-----+--------+---------+------+-----------+-------------+--------+-----------+-----------+-------+-----------+---------+--------------------+\n",
      "only showing top 5 rows\n",
      "\n"
     ]
    }
   ],
   "source": [
    "#合并df_exp_sta和df_ad_operation.ad_id\n",
    "df_ad_operation_id = df_ad_operation.withColumn('ad_id_key',df_ad_operation.ad_id).select('ad_id_key','put_time')\n",
    "df_ad_operation_id = df_ad_operation_id.dropDuplicates(subset=['ad_id_key'])\n",
    "df_exp_sta_opt = df_exp_sta.join(df_ad_operation_id, df_ad_operation_id.ad_id_key == df_exp_sta.ad_id_key, \"inner\")\n",
    "df_exp_sta_opt.show(5)"
   ]
  },
  {
   "cell_type": "code",
   "execution_count": 43,
   "metadata": {},
   "outputs": [],
   "source": [
    "df_exp_sta_opt = df_exp_sta_opt.drop('ad_id','ad_id_key')"
   ]
  },
  {
   "cell_type": "code",
   "execution_count": 44,
   "metadata": {},
   "outputs": [
    {
     "name": "stdout",
     "output_type": "stream",
     "text": [
      "+------------+-----+--------+-----------+-------------+--------+-----------+-----------+-------+-----------+--------------------+\n",
      "|ad_rqst_date|count|exp_week|create_time|ad_account_id|goods_id|goods_types|industry_id|ad_size|create_date|            put_time|\n",
      "+------------+-----+--------+-----------+-------------+--------+-----------+-----------+-------+-----------+--------------------+\n",
      "|  2019-03-03|   34|       1| 1544437860|         1105|   10091|         13|         17|     30| 2018-12-10|281474976694272,2...|\n",
      "|  2019-03-14|    2|       5| 1544437860|         1105|   10091|         13|         17|     30| 2018-12-10|281474976694272,2...|\n",
      "|  2019-03-05|   21|       3| 1544437860|         1105|   10091|         13|         17|     30| 2018-12-10|281474976694272,2...|\n",
      "|  2019-03-04|   12|       2| 1544437860|         1105|   10091|         13|         17|     30| 2018-12-10|281474976694272,2...|\n",
      "|  2019-02-21|    9|       5| 1544437860|         1105|   10091|         13|         17|     30| 2018-12-10|281474976694272,2...|\n",
      "|  2019-02-23|    1|       7| 1544437860|         1105|   10091|         13|         17|     30| 2018-12-10|281474976694272,2...|\n",
      "|  2019-02-18|    1|       2| 1544437860|         1105|   10091|         13|         17|     30| 2018-12-10|281474976694272,2...|\n",
      "|  2019-02-17|    1|       1| 1544437860|         1105|   10091|         13|         17|     30| 2018-12-10|281474976694272,2...|\n",
      "|  2019-03-09|    2|       7| 1544437860|         1105|   10091|         13|         17|     30| 2018-12-10|281474976694272,2...|\n",
      "|  2019-02-22|    4|       6| 1544437860|         1105|   10091|         13|         17|     30| 2018-12-10|281474976694272,2...|\n",
      "|  2019-03-07|    3|       5| 1544437860|         1105|   10091|         13|         17|     30| 2018-12-10|281474976694272,2...|\n",
      "|  2019-03-08|    3|       6| 1544437860|         1105|   10091|         13|         17|     30| 2018-12-10|281474976694272,2...|\n",
      "|  2019-02-28|    1|       5| 1544437860|         1105|   10091|         13|         17|     30| 2018-12-10|281474976694272,2...|\n",
      "|  2019-03-06|    5|       4| 1544437860|         1105|   10091|         13|         17|     30| 2018-12-10|281474976694272,2...|\n",
      "|  2019-02-20|    2|       4| 1550180183|         2441|   17777|         13|        146|      1| 2019-02-15|281474976448512,2...|\n",
      "|  2019-02-27|    2|       4| 1550180183|         2441|   17777|         13|        146|      1| 2019-02-15|281474976448512,2...|\n",
      "|  2019-02-22|    3|       6| 1550180183|         2441|   17777|         13|        146|      1| 2019-02-15|281474976448512,2...|\n",
      "|  2019-02-19|    1|       3| 1550180183|         2441|   17777|         13|        146|      1| 2019-02-15|281474976448512,2...|\n",
      "|  2019-02-17|   22|       1| 1550180183|         2441|   17777|         13|        146|      1| 2019-02-15|281474976448512,2...|\n",
      "|  2019-02-21|    4|       5| 1550180183|         2441|   17777|         13|        146|      1| 2019-02-15|281474976448512,2...|\n",
      "+------------+-----+--------+-----------+-------------+--------+-----------+-----------+-------+-----------+--------------------+\n",
      "only showing top 20 rows\n",
      "\n"
     ]
    }
   ],
   "source": [
    "df_exp_sta_opt.show()"
   ]
  },
  {
   "cell_type": "code",
   "execution_count": 45,
   "metadata": {},
   "outputs": [
    {
     "data": {
      "text/plain": [
       "180104"
      ]
     },
     "execution_count": 45,
     "metadata": {},
     "output_type": "execute_result"
    }
   ],
   "source": [
    "df_exp_sta_opt.count()"
   ]
  },
  {
   "cell_type": "code",
   "execution_count": 46,
   "metadata": {},
   "outputs": [],
   "source": [
    "df_exp_sta_opt_pd = df_exp_sta_opt.toPandas()\n",
    "df_exp_sta_opt_pd.to_csv(r'D:\\AD_ALG\\df_exp_sta_opt_pd.csv',encoding='utf-8-sig',index=False,header=True)"
   ]
  },
  {
   "cell_type": "markdown",
   "metadata": {},
   "source": [
    "### 第六步，处理测试集"
   ]
  },
  {
   "cell_type": "code",
   "execution_count": 47,
   "metadata": {},
   "outputs": [],
   "source": [
    "df_test= spark.read.csv(r'D:\\AD_ALG\\testB.csv',header=True)\n",
    "from pyspark.sql.functions import to_date\n",
    "df_test = df_test.withColumn('pred_date',to_date(df_test.pred_date))"
   ]
  },
  {
   "cell_type": "code",
   "execution_count": 48,
   "metadata": {},
   "outputs": [
    {
     "name": "stdout",
     "output_type": "stream",
     "text": [
      "+---------+------+-------+-----------+-----------+--------+-------------+--------------------+--------------------+------+----------+\n",
      "|sample_id| ad_id|ad_size|industry_id|goods_types|goods_id|ad_account_id|         target_user|            put_time|ad_bid| pred_date|\n",
      "+---------+------+-------+-----------+-----------+--------+-------------+--------------------+--------------------+------+----------+\n",
      "|        1|152978|     30|        118|          3|      -1|        23511|age:182,202,739,3...|281,474,976,710,6...|    37|2019-03-21|\n",
      "|        2|507977|     30|        122|         13|     629|         4211|                 all|70,368,744,161,28...|    54|2019-03-21|\n",
      "|        3|639943|     34|         84|         13|    2525|        15582|age:433,202,739,3...|281,474,976,694,2...|   161|2019-03-21|\n",
      "|        4|605859|     40|         98|         13|    3808|        10907|                 all|1,099,243,192,320...|    28|2019-03-22|\n",
      "|        5|742582|     40|        122|         13|    7017|        15855|age:433,819,79,52...|274,936,627,200,2...|    12|2019-03-21|\n",
      "|        6|742243|     30|        146|         13|    7904|        19328|age:433,394,819,2...|226,550,934,388,7...|    34|2019-03-21|\n",
      "|        7|306151|     40|        221|          1|      -1|         6262|age:433,819,229,7...|281,474,976,579,5...|     1|2019-03-22|\n",
      "|        8|739668|     64|         54|         15|    2396|         2347|age:394,202,1,333...|219,901,276,358,6...|    10|2019-03-21|\n",
      "|        9|443852|     30|        122|         13|    4332|         6678|                 all|281,474,976,694,2...|    66|2019-03-21|\n",
      "|       10|647165|      1|         33|          1|      -1|         2930|area:2189,9073,11...|281,474,976,710,6...|  1827|2019-03-21|\n",
      "|       11|737743|     40|        111|          1|      -1|        25735|age:394,731,202,3...|2,197,395,341,312...|   252|2019-03-21|\n",
      "|       12|340690|     64|        186|          3|      -1|        19889|area:10793,14237,...|281,474,976,710,6...|   136|2019-03-21|\n",
      "|       13|743220|     12|         47|         12|   21777|         6546|age:433,202,739,3...|244,362,432,741,3...|     8|2019-03-21|\n",
      "|       14|199900|     40|        122|         13|    4702|         1387|                 all|17,592,185,782,27...|    46|2019-03-21|\n",
      "|       15|542355|     34|         12|         13|   25577|        16167|age:433,202,739,3...|281,474,976,694,2...|    20|2019-03-21|\n",
      "|       16|470179|     40|         21|          1|      -1|        22373|           area:9686|17,592,185,978,88...|    94|2019-03-21|\n",
      "|       17|276721|     30|        122|         13|   27334|         1849|                 all|281,474,976,694,2...|   100|2019-03-21|\n",
      "|       18|640941|     64|        136|          1|      -1|        19927|age:731,942|gende...|281,474,976,710,6...|   150|2019-03-21|\n",
      "|       19|533697|     54|         63|          1|      -1|        12510|age:433,202,739,3...|281,474,976,710,6...|    59|2019-03-21|\n",
      "|       20|745079|     40|        110|          1|      -1|        22402|age:433,202,739,3...|127,697,967,620,0...|    69|2019-03-21|\n",
      "+---------+------+-------+-----------+-----------+--------+-------------+--------------------+--------------------+------+----------+\n",
      "only showing top 20 rows\n",
      "\n"
     ]
    }
   ],
   "source": [
    "df_test.show()"
   ]
  },
  {
   "cell_type": "code",
   "execution_count": 49,
   "metadata": {},
   "outputs": [],
   "source": [
    "from pyspark.sql.functions import dayofweek\n",
    "df_test=df_test.withColumn('exp_week',dayofweek(df_test.pred_date))"
   ]
  },
  {
   "cell_type": "code",
   "execution_count": 50,
   "metadata": {},
   "outputs": [
    {
     "name": "stdout",
     "output_type": "stream",
     "text": [
      "+---------+------+-------+-----------+-----------+--------+-------------+--------------------+--------------------+------+----------+--------+\n",
      "|sample_id| ad_id|ad_size|industry_id|goods_types|goods_id|ad_account_id|         target_user|            put_time|ad_bid| pred_date|exp_week|\n",
      "+---------+------+-------+-----------+-----------+--------+-------------+--------------------+--------------------+------+----------+--------+\n",
      "|        1|152978|     30|        118|          3|      -1|        23511|age:182,202,739,3...|281,474,976,710,6...|    37|2019-03-21|       5|\n",
      "|        2|507977|     30|        122|         13|     629|         4211|                 all|70,368,744,161,28...|    54|2019-03-21|       5|\n",
      "|        3|639943|     34|         84|         13|    2525|        15582|age:433,202,739,3...|281,474,976,694,2...|   161|2019-03-21|       5|\n",
      "|        4|605859|     40|         98|         13|    3808|        10907|                 all|1,099,243,192,320...|    28|2019-03-22|       6|\n",
      "|        5|742582|     40|        122|         13|    7017|        15855|age:433,819,79,52...|274,936,627,200,2...|    12|2019-03-21|       5|\n",
      "+---------+------+-------+-----------+-----------+--------+-------------+--------------------+--------------------+------+----------+--------+\n",
      "only showing top 5 rows\n",
      "\n"
     ]
    }
   ],
   "source": [
    "df_test.show(5)"
   ]
  },
  {
   "cell_type": "code",
   "execution_count": 51,
   "metadata": {},
   "outputs": [],
   "source": [
    "df_test_pd = df_test.toPandas()\n",
    "df_test_pd.to_csv(r'D:\\AD_ALG\\df_test_pd.csv',encoding='utf-8-sig',index=False,header=True)"
   ]
  },
  {
   "cell_type": "markdown",
   "metadata": {},
   "source": [
    "### 第七步，初步建模，baseline"
   ]
  },
  {
   "cell_type": "code",
   "execution_count": 52,
   "metadata": {},
   "outputs": [
    {
     "name": "stdout",
     "output_type": "stream",
     "text": [
      "+------------+-----+--------+-------------+--------+-----------+-----------+-------+-----------+--------------------+\n",
      "|ad_rqst_date|count|exp_week|ad_account_id|goods_id|goods_types|industry_id|ad_size|create_date|            put_time|\n",
      "+------------+-----+--------+-------------+--------+-----------+-----------+-------+-----------+--------------------+\n",
      "|  2019-03-03|   34|       1|         1105|   10091|         13|         17|     30| 2018-12-10|281474976694272,2...|\n",
      "|  2019-03-14|    2|       5|         1105|   10091|         13|         17|     30| 2018-12-10|281474976694272,2...|\n",
      "|  2019-03-05|   21|       3|         1105|   10091|         13|         17|     30| 2018-12-10|281474976694272,2...|\n",
      "|  2019-03-04|   12|       2|         1105|   10091|         13|         17|     30| 2018-12-10|281474976694272,2...|\n",
      "|  2019-02-21|    9|       5|         1105|   10091|         13|         17|     30| 2018-12-10|281474976694272,2...|\n",
      "|  2019-02-23|    1|       7|         1105|   10091|         13|         17|     30| 2018-12-10|281474976694272,2...|\n",
      "|  2019-02-18|    1|       2|         1105|   10091|         13|         17|     30| 2018-12-10|281474976694272,2...|\n",
      "|  2019-02-17|    1|       1|         1105|   10091|         13|         17|     30| 2018-12-10|281474976694272,2...|\n",
      "|  2019-03-09|    2|       7|         1105|   10091|         13|         17|     30| 2018-12-10|281474976694272,2...|\n",
      "|  2019-02-22|    4|       6|         1105|   10091|         13|         17|     30| 2018-12-10|281474976694272,2...|\n",
      "|  2019-03-07|    3|       5|         1105|   10091|         13|         17|     30| 2018-12-10|281474976694272,2...|\n",
      "|  2019-03-08|    3|       6|         1105|   10091|         13|         17|     30| 2018-12-10|281474976694272,2...|\n",
      "|  2019-02-28|    1|       5|         1105|   10091|         13|         17|     30| 2018-12-10|281474976694272,2...|\n",
      "|  2019-03-06|    5|       4|         1105|   10091|         13|         17|     30| 2018-12-10|281474976694272,2...|\n",
      "|  2019-02-20|    2|       4|         2441|   17777|         13|        146|      1| 2019-02-15|281474976448512,2...|\n",
      "|  2019-02-27|    2|       4|         2441|   17777|         13|        146|      1| 2019-02-15|281474976448512,2...|\n",
      "|  2019-02-22|    3|       6|         2441|   17777|         13|        146|      1| 2019-02-15|281474976448512,2...|\n",
      "|  2019-02-19|    1|       3|         2441|   17777|         13|        146|      1| 2019-02-15|281474976448512,2...|\n",
      "|  2019-02-17|   22|       1|         2441|   17777|         13|        146|      1| 2019-02-15|281474976448512,2...|\n",
      "|  2019-02-21|    4|       5|         2441|   17777|         13|        146|      1| 2019-02-15|281474976448512,2...|\n",
      "+------------+-----+--------+-------------+--------+-----------+-----------+-------+-----------+--------------------+\n",
      "only showing top 20 rows\n",
      "\n"
     ]
    }
   ],
   "source": [
    "df_exp_sta_opt = spark.read.csv(r'D:\\AD_ALG\\df_exp_sta_opt_pd.csv',header=True)\n",
    "df_train = df_exp_sta_opt.drop('create_time')\n",
    "df_train.show()"
   ]
  },
  {
   "cell_type": "code",
   "execution_count": 53,
   "metadata": {},
   "outputs": [
    {
     "name": "stdout",
     "output_type": "stream",
     "text": [
      "+------------+\n",
      "|ad_rqst_date|\n",
      "+------------+\n",
      "|  2019-03-03|\n",
      "|  2019-03-11|\n",
      "|  2019-02-24|\n",
      "|  2019-03-07|\n",
      "|  2019-03-19|\n",
      "|  2019-03-01|\n",
      "|  2019-02-19|\n",
      "|  2019-02-28|\n",
      "|  2019-02-26|\n",
      "|  2019-02-21|\n",
      "|  2019-02-23|\n",
      "|  2019-02-17|\n",
      "|  2019-03-16|\n",
      "|  2019-03-05|\n",
      "|  2019-02-25|\n",
      "|  2019-02-22|\n",
      "|  2019-03-14|\n",
      "|  2019-02-27|\n",
      "|  2019-02-20|\n",
      "|  2019-03-15|\n",
      "+------------+\n",
      "only showing top 20 rows\n",
      "\n"
     ]
    }
   ],
   "source": [
    "df_train.select('ad_rqst_date').dropDuplicates().show()"
   ]
  },
  {
   "cell_type": "code",
   "execution_count": 54,
   "metadata": {},
   "outputs": [],
   "source": [
    "#以3月19日之前曝光的广告作为新的训练集，3月19日的广告作为测试集\n",
    "df_train_tmp = df_train.where(df_train.ad_rqst_date == '2019-03-19')\n",
    "df_test_tmp = df_train.where(df_train.ad_rqst_date != '2019-03-19')"
   ]
  },
  {
   "cell_type": "code",
   "execution_count": 55,
   "metadata": {},
   "outputs": [],
   "source": [
    "#选择特征\n",
    "train_cols = ['count','exp_week','ad_account_id','goods_id','goods_types','industry_id','ad_size']\n",
    "features = ['exp_week','ad_account_id','goods_id','goods_types','industry_id','ad_size']\n",
    "df_trainA = df_train_tmp.select(train_cols)\n",
    "df_testA = df_test_tmp.select(train_cols)\n",
    "#真正的验证集\n",
    "df_testB = spark.read.csv(r'D:\\AD_ALG\\df_test_pd.csv',header=True).select(features)"
   ]
  },
  {
   "cell_type": "code",
   "execution_count": 56,
   "metadata": {},
   "outputs": [],
   "source": [
    "#转换数据类型\n",
    "import pyspark.sql.types as typ\n",
    "for col in train_cols:\n",
    "    df_trainA = df_trainA.withColumn(col,df_train[col].cast(typ.IntegerType()))\n",
    "    df_testA = df_testA.withColumn(col,df_testA[col].cast(typ.IntegerType()))\n",
    "    if col != 'count':\n",
    "        df_testB = df_testB.withColumn(col,df_testB[col].cast(typ.IntegerType()))"
   ]
  },
  {
   "cell_type": "code",
   "execution_count": 57,
   "metadata": {},
   "outputs": [],
   "source": [
    "##建立梯度提升模型\n",
    "import pyspark.ml.regression as reg\n",
    "from pyspark.ml import Pipeline\n",
    "import pyspark.ml.feature as ft\n",
    "featuresCreator = ft.VectorAssembler(\n",
    "    inputCols = [col for col in features],\n",
    "    outputCol = 'features'\n",
    ")\n",
    "selector = ft.ChiSqSelector(\n",
    "    numTopFeatures = 6,\n",
    "    outputCol = 'selectedFeatures',\n",
    "    labelCol= 'count'\n",
    ")\n",
    "gbt = reg.GBTRegressor(\n",
    "maxIter = 15,\n",
    "maxDepth=3,\n",
    "seed=617,\n",
    "labelCol = 'count'\n",
    ")\n",
    "pipeline = Pipeline(stages=[\n",
    "    featuresCreator,\n",
    "    selector,\n",
    "    gbt \n",
    "])\n",
    "gbt_model = pipeline.fit(df_trainA) "
   ]
  },
  {
   "cell_type": "code",
   "execution_count": 58,
   "metadata": {},
   "outputs": [
    {
     "name": "stdout",
     "output_type": "stream",
     "text": [
      "梯度提升预测r2为： 0.10008700437076656\n"
     ]
    }
   ],
   "source": [
    "##评估模型\n",
    "import pyspark.ml.evaluation as ev\n",
    "evaluator = ev.RegressionEvaluator(\n",
    "    predictionCol = 'prediction',\n",
    "    labelCol = 'count',\n",
    ")\n",
    "\n",
    "print('梯度提升预测r2为：',evaluator.evaluate(\n",
    "    gbt_model.transform(df_testA),\n",
    "    {evaluator.metricName:'r2'}\n",
    "))"
   ]
  },
  {
   "cell_type": "code",
   "execution_count": 83,
   "metadata": {},
   "outputs": [],
   "source": [
    "#做预测\n",
    "gbt_pred = gbt_model.transform(df_testB).toPandas()"
   ]
  },
  {
   "cell_type": "code",
   "execution_count": 64,
   "metadata": {},
   "outputs": [
    {
     "name": "stdout",
     "output_type": "stream",
     "text": [
      "随机森林预测r2为： 0.0772248218333691\n"
     ]
    }
   ],
   "source": [
    "#建立随机森林模型\n",
    "rfr = reg.RandomForestRegressor(numTrees=10, labelCol = 'count')\n",
    "pipeline2 = Pipeline(stages=[\n",
    "    featuresCreator,\n",
    "    selector,\n",
    "    rfr \n",
    "])\n",
    "rfr_model = pipeline2.fit(df_trainA) \n",
    "##评估模型\n",
    "import pyspark.ml.evaluation as ev\n",
    "evaluator = ev.RegressionEvaluator(\n",
    "    predictionCol = 'prediction',\n",
    "    labelCol = 'count',\n",
    ")\n",
    "\n",
    "print('随机森林预测r2为：',evaluator.evaluate(\n",
    "    rfr_model.transform(df_testA),\n",
    "    {evaluator.metricName:'r2'}\n",
    "))"
   ]
  },
  {
   "cell_type": "code",
   "execution_count": 84,
   "metadata": {},
   "outputs": [],
   "source": [
    "#做预测\n",
    "rfr_pred = rfr_model.transform(df_testB).toPandas()"
   ]
  },
  {
   "cell_type": "code",
   "execution_count": 85,
   "metadata": {},
   "outputs": [],
   "source": [
    "##模型融合及调整单调性\n",
    "df_pred = spark.read.csv(r'D:\\AD_ALG\\df_test_pd.csv',header=True).select('ad_id','ad_bid').toPandas()"
   ]
  },
  {
   "cell_type": "code",
   "execution_count": 87,
   "metadata": {},
   "outputs": [
    {
     "data": {
      "text/html": [
       "<div>\n",
       "<style scoped>\n",
       "    .dataframe tbody tr th:only-of-type {\n",
       "        vertical-align: middle;\n",
       "    }\n",
       "\n",
       "    .dataframe tbody tr th {\n",
       "        vertical-align: top;\n",
       "    }\n",
       "\n",
       "    .dataframe thead th {\n",
       "        text-align: right;\n",
       "    }\n",
       "</style>\n",
       "<table border=\"1\" class=\"dataframe\">\n",
       "  <thead>\n",
       "    <tr style=\"text-align: right;\">\n",
       "      <th></th>\n",
       "      <th>ad_id</th>\n",
       "      <th>ad_bid</th>\n",
       "      <th>gbt_pred</th>\n",
       "      <th>rfr_pred</th>\n",
       "      <th>avg_pred</th>\n",
       "    </tr>\n",
       "  </thead>\n",
       "  <tbody>\n",
       "    <tr>\n",
       "      <th>0</th>\n",
       "      <td>152978</td>\n",
       "      <td>37</td>\n",
       "      <td>59.272329</td>\n",
       "      <td>88.748545</td>\n",
       "      <td>74.010437</td>\n",
       "    </tr>\n",
       "    <tr>\n",
       "      <th>1</th>\n",
       "      <td>507977</td>\n",
       "      <td>54</td>\n",
       "      <td>13.170180</td>\n",
       "      <td>10.313342</td>\n",
       "      <td>11.741761</td>\n",
       "    </tr>\n",
       "    <tr>\n",
       "      <th>2</th>\n",
       "      <td>639943</td>\n",
       "      <td>161</td>\n",
       "      <td>7.191413</td>\n",
       "      <td>8.432640</td>\n",
       "      <td>7.812026</td>\n",
       "    </tr>\n",
       "    <tr>\n",
       "      <th>3</th>\n",
       "      <td>605859</td>\n",
       "      <td>28</td>\n",
       "      <td>19.472607</td>\n",
       "      <td>20.880307</td>\n",
       "      <td>20.176457</td>\n",
       "    </tr>\n",
       "    <tr>\n",
       "      <th>4</th>\n",
       "      <td>742582</td>\n",
       "      <td>12</td>\n",
       "      <td>19.472607</td>\n",
       "      <td>21.632217</td>\n",
       "      <td>20.552412</td>\n",
       "    </tr>\n",
       "  </tbody>\n",
       "</table>\n",
       "</div>"
      ],
      "text/plain": [
       "    ad_id ad_bid   gbt_pred   rfr_pred   avg_pred\n",
       "0  152978     37  59.272329  88.748545  74.010437\n",
       "1  507977     54  13.170180  10.313342  11.741761\n",
       "2  639943    161   7.191413   8.432640   7.812026\n",
       "3  605859     28  19.472607  20.880307  20.176457\n",
       "4  742582     12  19.472607  21.632217  20.552412"
      ]
     },
     "execution_count": 87,
     "metadata": {},
     "output_type": "execute_result"
    }
   ],
   "source": [
    "df_pred['gbt_pred'] = gbt_pred['prediction']\n",
    "df_pred['rfr_pred'] = rfr_pred['prediction']\n",
    "df_pred['avg_pred'] = (rfr_pred['prediction']+ gbt_pred['prediction'])/2\n",
    "df_pred.head()"
   ]
  },
  {
   "cell_type": "code",
   "execution_count": 88,
   "metadata": {},
   "outputs": [
    {
     "data": {
      "text/plain": [
       "count    38596.000000\n",
       "mean        58.330360\n",
       "std         69.786789\n",
       "min        -76.226183\n",
       "25%         11.576575\n",
       "50%         30.355260\n",
       "75%         79.048574\n",
       "max        708.886150\n",
       "Name: avg_pred, dtype: float64"
      ]
     },
     "execution_count": 88,
     "metadata": {},
     "output_type": "execute_result"
    }
   ],
   "source": [
    "df_pred.avg_pred.describe()"
   ]
  },
  {
   "cell_type": "code",
   "execution_count": 90,
   "metadata": {},
   "outputs": [],
   "source": [
    "df_pred['finall_pred'] = df_pred['avg_pred']+df_pred['ad_bid'].astype(int)/10000"
   ]
  },
  {
   "cell_type": "code",
   "execution_count": 91,
   "metadata": {},
   "outputs": [
    {
     "data": {
      "text/html": [
       "<div>\n",
       "<style scoped>\n",
       "    .dataframe tbody tr th:only-of-type {\n",
       "        vertical-align: middle;\n",
       "    }\n",
       "\n",
       "    .dataframe tbody tr th {\n",
       "        vertical-align: top;\n",
       "    }\n",
       "\n",
       "    .dataframe thead th {\n",
       "        text-align: right;\n",
       "    }\n",
       "</style>\n",
       "<table border=\"1\" class=\"dataframe\">\n",
       "  <thead>\n",
       "    <tr style=\"text-align: right;\">\n",
       "      <th></th>\n",
       "      <th>ad_id</th>\n",
       "      <th>ad_bid</th>\n",
       "      <th>gbt_pred</th>\n",
       "      <th>rfr_pred</th>\n",
       "      <th>avg_pred</th>\n",
       "      <th>finall_pred</th>\n",
       "    </tr>\n",
       "  </thead>\n",
       "  <tbody>\n",
       "    <tr>\n",
       "      <th>0</th>\n",
       "      <td>152978</td>\n",
       "      <td>37</td>\n",
       "      <td>59.272329</td>\n",
       "      <td>88.748545</td>\n",
       "      <td>74.010437</td>\n",
       "      <td>74.014137</td>\n",
       "    </tr>\n",
       "    <tr>\n",
       "      <th>1</th>\n",
       "      <td>507977</td>\n",
       "      <td>54</td>\n",
       "      <td>13.170180</td>\n",
       "      <td>10.313342</td>\n",
       "      <td>11.741761</td>\n",
       "      <td>11.747161</td>\n",
       "    </tr>\n",
       "    <tr>\n",
       "      <th>2</th>\n",
       "      <td>639943</td>\n",
       "      <td>161</td>\n",
       "      <td>7.191413</td>\n",
       "      <td>8.432640</td>\n",
       "      <td>7.812026</td>\n",
       "      <td>7.828126</td>\n",
       "    </tr>\n",
       "    <tr>\n",
       "      <th>3</th>\n",
       "      <td>605859</td>\n",
       "      <td>28</td>\n",
       "      <td>19.472607</td>\n",
       "      <td>20.880307</td>\n",
       "      <td>20.176457</td>\n",
       "      <td>20.179257</td>\n",
       "    </tr>\n",
       "    <tr>\n",
       "      <th>4</th>\n",
       "      <td>742582</td>\n",
       "      <td>12</td>\n",
       "      <td>19.472607</td>\n",
       "      <td>21.632217</td>\n",
       "      <td>20.552412</td>\n",
       "      <td>20.553612</td>\n",
       "    </tr>\n",
       "  </tbody>\n",
       "</table>\n",
       "</div>"
      ],
      "text/plain": [
       "    ad_id ad_bid   gbt_pred   rfr_pred   avg_pred  finall_pred\n",
       "0  152978     37  59.272329  88.748545  74.010437    74.014137\n",
       "1  507977     54  13.170180  10.313342  11.741761    11.747161\n",
       "2  639943    161   7.191413   8.432640   7.812026     7.828126\n",
       "3  605859     28  19.472607  20.880307  20.176457    20.179257\n",
       "4  742582     12  19.472607  21.632217  20.552412    20.553612"
      ]
     },
     "execution_count": 91,
     "metadata": {},
     "output_type": "execute_result"
    }
   ],
   "source": [
    "df_pred.head()"
   ]
  },
  {
   "cell_type": "markdown",
   "metadata": {},
   "source": [
    "### 第八步，增加特征建模"
   ]
  },
  {
   "cell_type": "code",
   "execution_count": null,
   "metadata": {},
   "outputs": [],
   "source": [
    "df_exp_sta_opt = spark.read.csv(r'D:\\AD_ALG\\df_exp_sta_opt_pd.csv',header=True)\n",
    "df_train = df_exp_sta_opt.drop('create_time')\n",
    "df_test = spark.read.csv(r'D:\\AD_ALG\\df_test_pd.csv',header=True)"
   ]
  },
  {
   "cell_type": "code",
   "execution_count": null,
   "metadata": {},
   "outputs": [],
   "source": []
  },
  {
   "cell_type": "code",
   "execution_count": null,
   "metadata": {},
   "outputs": [],
   "source": []
  },
  {
   "cell_type": "code",
   "execution_count": null,
   "metadata": {},
   "outputs": [],
   "source": []
  },
  {
   "cell_type": "code",
   "execution_count": null,
   "metadata": {},
   "outputs": [],
   "source": []
  }
 ],
 "metadata": {
  "kernelspec": {
   "display_name": "Python 3",
   "language": "python",
   "name": "python3"
  },
  "language_info": {
   "codemirror_mode": {
    "name": "ipython",
    "version": 3
   },
   "file_extension": ".py",
   "mimetype": "text/x-python",
   "name": "python",
   "nbconvert_exporter": "python",
   "pygments_lexer": "ipython3",
   "version": "3.7.1"
  }
 },
 "nbformat": 4,
 "nbformat_minor": 2
}
